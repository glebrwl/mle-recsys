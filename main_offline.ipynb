{
 "cells": [
  {
   "cell_type": "markdown",
   "id": "b3589a9a-ce16-4d2e-b581-d75139fc58b3",
   "metadata": {},
   "source": [
    "# Initialization"
   ]
  },
  {
   "cell_type": "code",
   "execution_count": 1,
   "id": "c6e28b2f-3822-4e27-b576-9bc42b279b32",
   "metadata": {},
   "outputs": [],
   "source": [
    "import logging\n",
    "\n",
    "import matplotlib.pyplot as plt\n",
    "import numpy as np\n",
    "import pandas as pd"
   ]
  },
  {
   "cell_type": "code",
   "execution_count": 2,
   "id": "4e53bc65-3e32-454b-b353-e9b95489c26c",
   "metadata": {},
   "outputs": [],
   "source": [
    "%matplotlib inline\n",
    "%config InlineBackend.figure_format = 'png'\n",
    "%config InlineBackend.figure_format = 'retina'"
   ]
  },
  {
   "cell_type": "markdown",
   "id": "e8b1d982-8795-45c2-b221-6e5a07eaa150",
   "metadata": {},
   "source": [
    "# Загрузка данных"
   ]
  },
  {
   "cell_type": "code",
   "execution_count": 5,
   "id": "6ab0db85-17df-4a4f-b23c-e9cd983d8c43",
   "metadata": {},
   "outputs": [],
   "source": [
    "items = pd.read_parquet(\"goodsread/items.par\")\n",
    "events = pd.read_parquet(\"goodsread/events.par\")\n",
    "\n",
    "events.rename(columns={'book_id':'item_id'}, inplace=True)"
   ]
  },
  {
   "cell_type": "markdown",
   "id": "f18f28dd-0371-4144-bf11-d077d44e8de0",
   "metadata": {},
   "source": [
    "# Разбиение с учётом хронологии"
   ]
  },
  {
   "cell_type": "markdown",
   "id": "47016708-6f94-4518-886c-58fa6e7bb315",
   "metadata": {},
   "source": [
    "Рекомендательные системы на практике работают с учётом хронологии. Поэтому поток событий для тренировки и валидации полезно делить на то, что уже случилось, и что ещё случится. Это позволяет проводить валидацию на тех же пользователях, на которых тренировались, но на их событиях в будущем."
   ]
  },
  {
   "cell_type": "markdown",
   "id": "e8df5897-bbcd-4364-b5d3-ec7d1de6743a",
   "metadata": {},
   "source": [
    "# === Знакомство: \"холодный\" старт"
   ]
  },
  {
   "cell_type": "code",
   "execution_count": null,
   "id": "4713c062-c9cd-425f-8174-cf133c4730d1",
   "metadata": {},
   "outputs": [],
   "source": []
  },
  {
   "cell_type": "code",
   "execution_count": null,
   "id": "4cb94a23-8d1d-4025-908f-f290013fa429",
   "metadata": {},
   "outputs": [],
   "source": []
  },
  {
   "cell_type": "code",
   "execution_count": null,
   "id": "6f94990b-65c8-43cc-88da-ebe6a12163b4",
   "metadata": {},
   "outputs": [],
   "source": []
  },
  {
   "cell_type": "markdown",
   "id": "65ef157d-dd5a-4882-8208-40cd9cdfebfc",
   "metadata": {},
   "source": [
    "# === Знакомство: первые персональные рекомендации"
   ]
  },
  {
   "cell_type": "code",
   "execution_count": 6,
   "id": "b687dc99-9aee-472f-9730-d5f17df99c7e",
   "metadata": {},
   "outputs": [
    {
     "data": {
      "text/html": [
       "<div>\n",
       "<style scoped>\n",
       "    .dataframe tbody tr th:only-of-type {\n",
       "        vertical-align: middle;\n",
       "    }\n",
       "\n",
       "    .dataframe tbody tr th {\n",
       "        vertical-align: top;\n",
       "    }\n",
       "\n",
       "    .dataframe thead th {\n",
       "        text-align: right;\n",
       "    }\n",
       "</style>\n",
       "<table border=\"1\" class=\"dataframe\">\n",
       "  <thead>\n",
       "    <tr style=\"text-align: right;\">\n",
       "      <th></th>\n",
       "      <th>user_id</th>\n",
       "      <th>item_id</th>\n",
       "      <th>rating</th>\n",
       "    </tr>\n",
       "  </thead>\n",
       "  <tbody>\n",
       "    <tr>\n",
       "      <th>0</th>\n",
       "      <td>8842281e1d1347389f2ab93d60773d4d</td>\n",
       "      <td>22034</td>\n",
       "      <td>5</td>\n",
       "    </tr>\n",
       "    <tr>\n",
       "      <th>1</th>\n",
       "      <td>8842281e1d1347389f2ab93d60773d4d</td>\n",
       "      <td>22318578</td>\n",
       "      <td>5</td>\n",
       "    </tr>\n",
       "    <tr>\n",
       "      <th>2</th>\n",
       "      <td>8842281e1d1347389f2ab93d60773d4d</td>\n",
       "      <td>22551730</td>\n",
       "      <td>4</td>\n",
       "    </tr>\n",
       "    <tr>\n",
       "      <th>3</th>\n",
       "      <td>8842281e1d1347389f2ab93d60773d4d</td>\n",
       "      <td>22816087</td>\n",
       "      <td>5</td>\n",
       "    </tr>\n",
       "    <tr>\n",
       "      <th>4</th>\n",
       "      <td>8842281e1d1347389f2ab93d60773d4d</td>\n",
       "      <td>17910054</td>\n",
       "      <td>3</td>\n",
       "    </tr>\n",
       "    <tr>\n",
       "      <th>...</th>\n",
       "      <td>...</td>\n",
       "      <td>...</td>\n",
       "      <td>...</td>\n",
       "    </tr>\n",
       "    <tr>\n",
       "      <th>11836277</th>\n",
       "      <td>d890e8079d8896e0cc6c4f178634850a</td>\n",
       "      <td>14836</td>\n",
       "      <td>3</td>\n",
       "    </tr>\n",
       "    <tr>\n",
       "      <th>11836278</th>\n",
       "      <td>d0f6d1a4edcab80a6010cfcfeda4999f</td>\n",
       "      <td>14935</td>\n",
       "      <td>5</td>\n",
       "    </tr>\n",
       "    <tr>\n",
       "      <th>11836279</th>\n",
       "      <td>b0883ebf8e31731f1c5d91e678c26666</td>\n",
       "      <td>10210</td>\n",
       "      <td>5</td>\n",
       "    </tr>\n",
       "    <tr>\n",
       "      <th>11836280</th>\n",
       "      <td>b0883ebf8e31731f1c5d91e678c26666</td>\n",
       "      <td>99561</td>\n",
       "      <td>4</td>\n",
       "    </tr>\n",
       "    <tr>\n",
       "      <th>11836281</th>\n",
       "      <td>594c86711bd7acdaf655d102df52a9cb</td>\n",
       "      <td>8239301</td>\n",
       "      <td>4</td>\n",
       "    </tr>\n",
       "  </tbody>\n",
       "</table>\n",
       "<p>11836282 rows × 3 columns</p>\n",
       "</div>"
      ],
      "text/plain": [
       "                                   user_id   item_id  rating\n",
       "0         8842281e1d1347389f2ab93d60773d4d     22034       5\n",
       "1         8842281e1d1347389f2ab93d60773d4d  22318578       5\n",
       "2         8842281e1d1347389f2ab93d60773d4d  22551730       4\n",
       "3         8842281e1d1347389f2ab93d60773d4d  22816087       5\n",
       "4         8842281e1d1347389f2ab93d60773d4d  17910054       3\n",
       "...                                    ...       ...     ...\n",
       "11836277  d890e8079d8896e0cc6c4f178634850a     14836       3\n",
       "11836278  d0f6d1a4edcab80a6010cfcfeda4999f     14935       5\n",
       "11836279  b0883ebf8e31731f1c5d91e678c26666     10210       5\n",
       "11836280  b0883ebf8e31731f1c5d91e678c26666     99561       4\n",
       "11836281  594c86711bd7acdaf655d102df52a9cb   8239301       4\n",
       "\n",
       "[11836282 rows x 3 columns]"
      ]
     },
     "execution_count": 6,
     "metadata": {},
     "output_type": "execute_result"
    }
   ],
   "source": [
    "events[['user_id', 'item_id', 'rating']]"
   ]
  },
  {
   "cell_type": "code",
   "execution_count": 7,
   "id": "b450b524",
   "metadata": {},
   "outputs": [
    {
     "name": "stderr",
     "output_type": "stream",
     "text": [
      "/tmp/ipykernel_12511/1606880112.py:4: SettingWithCopyWarning: \n",
      "A value is trying to be set on a copy of a slice from a DataFrame\n",
      "\n",
      "See the caveats in the documentation: https://pandas.pydata.org/pandas-docs/stable/user_guide/indexing.html#returning-a-view-versus-a-copy\n",
      "  filtered_events.sort_values(by='user_id', inplace=True)\n",
      "/tmp/ipykernel_12511/1606880112.py:7: SettingWithCopyWarning: \n",
      "A value is trying to be set on a copy of a slice from a DataFrame\n",
      "\n",
      "See the caveats in the documentation: https://pandas.pydata.org/pandas-docs/stable/user_guide/indexing.html#returning-a-view-versus-a-copy\n",
      "  filtered_events.rename(columns=cols_to_rename, inplace=True)\n",
      "/tmp/ipykernel_12511/1606880112.py:13: SettingWithCopyWarning: \n",
      "A value is trying to be set on a copy of a slice from a DataFrame.\n",
      "Try using .loc[row_indexer,col_indexer] = value instead\n",
      "\n",
      "See the caveats in the documentation: https://pandas.pydata.org/pandas-docs/stable/user_guide/indexing.html#returning-a-view-versus-a-copy\n",
      "  filtered_events['user_id'] = filtered_events['user_id'].map(ids_mapping)\n"
     ]
    }
   ],
   "source": [
    "user_counts = events['user_id'].value_counts()\n",
    "uids = user_counts[user_counts >= 2].index\n",
    "filtered_events = events[events['user_id'].isin(uids)]\n",
    "filtered_events.sort_values(by='user_id', inplace=True)\n",
    "\n",
    "cols_to_rename = {'book_id': 'item_id'}\n",
    "filtered_events.rename(columns=cols_to_rename, inplace=True)\n",
    "items.rename(columns=cols_to_rename, inplace=True)\n",
    "\n",
    "unique_users = list(filtered_events['user_id'].unique())\n",
    "ids_mapping = {user:idx for idx, user in enumerate(unique_users, start=1_000_000)}\n",
    "\n",
    "filtered_events['user_id'] = filtered_events['user_id'].map(ids_mapping)\n",
    "filtered_events.reset_index(drop=True, inplace=True)"
   ]
  },
  {
   "cell_type": "code",
   "execution_count": null,
   "id": "7c0d1219",
   "metadata": {},
   "outputs": [],
   "source": [
    "train_test_global_time_split_date = pd.to_datetime('2017-08-01').date()\n",
    "\n",
    "train_test_global_time_split_idx = filtered_events['started_at'] < train_test_global_time_split_date\n",
    "events_train = filtered_events[train_test_global_time_split_idx]\n",
    "events_test = filtered_events[~train_test_global_time_split_idx]"
   ]
  },
  {
   "cell_type": "code",
   "execution_count": 9,
   "id": "87de9caf",
   "metadata": {},
   "outputs": [
    {
     "name": "stdout",
     "output_type": "stream",
     "text": [
      "Sparsity of U-I-matrix is:  0.9993451160571009\n"
     ]
    }
   ],
   "source": [
    "print('Sparsity of U-I-matrix is: ', \\\n",
    "      (filtered_events.user_id.nunique()*filtered_events.item_id.nunique() - \\\n",
    "       len(filtered_events))/(filtered_events.user_id.nunique()*filtered_events.item_id.nunique()))"
   ]
  },
  {
   "cell_type": "code",
   "execution_count": 8,
   "id": "4cdb79a3",
   "metadata": {},
   "outputs": [],
   "source": [
    "from surprise import Dataset, Reader\n",
    "from surprise import SVD \n",
    "\n",
    "reader = Reader(rating_scale=(1,5))\n",
    "surprise_train_set = Dataset.load_from_df(events_train[['user_id', 'item_id', 'rating']], reader)\n",
    "surprise_train_set = surprise_train_set.build_full_trainset()"
   ]
  },
  {
   "cell_type": "code",
   "execution_count": 9,
   "id": "f6c2459a",
   "metadata": {},
   "outputs": [
    {
     "data": {
      "text/plain": [
       "<surprise.prediction_algorithms.matrix_factorization.SVD at 0x7fcc7b1b8ee0>"
      ]
     },
     "execution_count": 9,
     "metadata": {},
     "output_type": "execute_result"
    }
   ],
   "source": [
    "svd_model = SVD(n_factors=100, random_state=0)\n",
    "svd_model.fit(surprise_train_set)"
   ]
  },
  {
   "cell_type": "code",
   "execution_count": 13,
   "id": "61278003",
   "metadata": {},
   "outputs": [],
   "source": [
    "surprise_test_set = list(events_test[['user_id', 'item_id', 'rating']].itertuples(index=False))\n",
    "svd_predictions = svd_model.test(surprise_test_set)"
   ]
  },
  {
   "cell_type": "code",
   "execution_count": 14,
   "id": "895fa11e",
   "metadata": {},
   "outputs": [
    {
     "name": "stdout",
     "output_type": "stream",
     "text": [
      "RMSE: 0.8263\n",
      "MAE:  0.6460\n",
      "0.826346375350908 0.6460143973270805\n"
     ]
    }
   ],
   "source": [
    "from surprise import accuracy \n",
    "\n",
    "rmse = accuracy.rmse(svd_predictions)\n",
    "mae = accuracy.mae(svd_predictions)\n",
    "\n",
    "print(rmse, mae)"
   ]
  },
  {
   "cell_type": "code",
   "execution_count": 15,
   "id": "2c44e224",
   "metadata": {},
   "outputs": [
    {
     "name": "stdout",
     "output_type": "stream",
     "text": [
      "RMSE: 1.2590\n",
      "MAE:  0.9982\n",
      "1.2590325375790072 0.9982060614713011\n"
     ]
    }
   ],
   "source": [
    "from surprise import NormalPredictor\n",
    "\n",
    "np.random.seed(0)\n",
    "random_model = NormalPredictor()\n",
    "\n",
    "random_model.fit(surprise_train_set)\n",
    "random_predictions = random_model.test(surprise_test_set) \n",
    "\n",
    "rmse = accuracy.rmse(random_predictions)\n",
    "mae = accuracy.mae(random_predictions)\n",
    "\n",
    "print(rmse, mae)"
   ]
  },
  {
   "cell_type": "markdown",
   "id": "2905b3d1",
   "metadata": {},
   "source": [
    "# === Факультативное задание ==="
   ]
  },
  {
   "cell_type": "code",
   "execution_count": 37,
   "id": "4192b544",
   "metadata": {},
   "outputs": [],
   "source": [
    "n_interactions = filtered_events['item_id'].value_counts()\n",
    "used_ids = set(n_interactions[n_interactions > 3].index)"
   ]
  },
  {
   "cell_type": "code",
   "execution_count": 38,
   "id": "db3b07d6",
   "metadata": {},
   "outputs": [
    {
     "data": {
      "text/html": [
       "<div>\n",
       "<style scoped>\n",
       "    .dataframe tbody tr th:only-of-type {\n",
       "        vertical-align: middle;\n",
       "    }\n",
       "\n",
       "    .dataframe tbody tr th {\n",
       "        vertical-align: top;\n",
       "    }\n",
       "\n",
       "    .dataframe thead th {\n",
       "        text-align: right;\n",
       "    }\n",
       "</style>\n",
       "<table border=\"1\" class=\"dataframe\">\n",
       "  <thead>\n",
       "    <tr style=\"text-align: right;\">\n",
       "      <th></th>\n",
       "      <th>user_id</th>\n",
       "      <th>item_id</th>\n",
       "      <th>started_at</th>\n",
       "      <th>read_at</th>\n",
       "      <th>is_read</th>\n",
       "      <th>rating</th>\n",
       "      <th>is_reviewed</th>\n",
       "      <th>started_at_month</th>\n",
       "    </tr>\n",
       "  </thead>\n",
       "  <tbody>\n",
       "    <tr>\n",
       "      <th>0</th>\n",
       "      <td>1000000</td>\n",
       "      <td>11012</td>\n",
       "      <td>2015-12-05</td>\n",
       "      <td>2015-12-11</td>\n",
       "      <td>True</td>\n",
       "      <td>4</td>\n",
       "      <td>False</td>\n",
       "      <td>2015-12-01</td>\n",
       "    </tr>\n",
       "    <tr>\n",
       "      <th>1</th>\n",
       "      <td>1000000</td>\n",
       "      <td>4671</td>\n",
       "      <td>2014-06-05</td>\n",
       "      <td>2014-06-30</td>\n",
       "      <td>True</td>\n",
       "      <td>5</td>\n",
       "      <td>False</td>\n",
       "      <td>2014-06-01</td>\n",
       "    </tr>\n",
       "  </tbody>\n",
       "</table>\n",
       "</div>"
      ],
      "text/plain": [
       "   user_id  item_id  started_at     read_at  is_read  rating  is_reviewed  \\\n",
       "0  1000000    11012  2015-12-05  2015-12-11     True       4        False   \n",
       "1  1000000     4671  2014-06-05  2014-06-30     True       5        False   \n",
       "\n",
       "  started_at_month  \n",
       "0       2015-12-01  \n",
       "1       2014-06-01  "
      ]
     },
     "execution_count": 38,
     "metadata": {},
     "output_type": "execute_result"
    }
   ],
   "source": [
    "interacted_events = filtered_events[filtered_events['item_id'].isin(used_ids)].copy().reset_index(drop=True)\n",
    "interacted_events.head(2)"
   ]
  },
  {
   "cell_type": "code",
   "execution_count": 42,
   "id": "7b129bac",
   "metadata": {},
   "outputs": [],
   "source": [
    "train_test_global_time_split_date = pd.to_datetime('2017-08-01').date()\n",
    "time_split_idx = interacted_events['started_at'] < train_test_global_time_split_date\n",
    "\n",
    "interacted_events_train = interacted_events[time_split_idx]\n",
    "interacted_events_test = interacted_events[~time_split_idx]"
   ]
  },
  {
   "cell_type": "code",
   "execution_count": 44,
   "id": "0a2c6fa3",
   "metadata": {},
   "outputs": [],
   "source": [
    "from surprise import Dataset, Reader \n",
    "from surprise import SVD \n",
    "\n",
    "reader = Reader(rating_scale=(1,5))\n",
    "surprise_interacted_train_set = Dataset.load_from_df(interacted_events_train[['user_id',\n",
    "                                                                              'item_id',\n",
    "                                                                              'rating']], reader)\n",
    "surprise_interacted_train_set = surprise_interacted_train_set.build_full_trainset()"
   ]
  },
  {
   "cell_type": "code",
   "execution_count": 46,
   "id": "f4c4c051",
   "metadata": {},
   "outputs": [
    {
     "data": {
      "text/plain": [
       "<surprise.prediction_algorithms.matrix_factorization.SVD at 0x7fcb819a2260>"
      ]
     },
     "execution_count": 46,
     "metadata": {},
     "output_type": "execute_result"
    }
   ],
   "source": [
    "svd_model_new = SVD(n_factors=100, random_state=0)\n",
    "svd_model_new.fit(surprise_interacted_train_set)"
   ]
  },
  {
   "cell_type": "code",
   "execution_count": null,
   "id": "6f836bf4",
   "metadata": {},
   "outputs": [],
   "source": [
    "surprise_interacted_test_set = list(interacted_events_test[['user_id', \n",
    "                                                            'item_id', \n",
    "                                                            'rating']].itertuples(index=False))\n",
    "interacted_svd_predictions = svd_model.test(surprise_interacted_test_set)"
   ]
  },
  {
   "cell_type": "code",
   "execution_count": null,
   "id": "6bf2aa5a",
   "metadata": {},
   "outputs": [
    {
     "name": "stdout",
     "output_type": "stream",
     "text": [
      "RMSE: 0.8262\n",
      "MAE:  0.6459\n",
      "0.8262391648389367 0.6459146378103414\n"
     ]
    }
   ],
   "source": [
    "from surprise import accuracy \n",
    "\n",
    "rmse = accuracy.rmse(interacted_svd_predictions)\n",
    "mae = accuracy.mae(interacted_svd_predictions)\n",
    "\n",
    "print(rmse, mae)"
   ]
  },
  {
   "cell_type": "markdown",
   "id": "f598b560",
   "metadata": {},
   "source": [
    "# === Продолжаем ==="
   ]
  },
  {
   "cell_type": "code",
   "execution_count": null,
   "id": "37866747",
   "metadata": {},
   "outputs": [],
   "source": [
    "svd_model.predict(events_test[['user_id', 'item_id']])"
   ]
  },
  {
   "cell_type": "code",
   "execution_count": 54,
   "id": "77c68b6a",
   "metadata": {},
   "outputs": [],
   "source": [
    "def get_recommendations_svd(user_id, all_items, events, model, include_seen=True, n=5):\n",
    "    \n",
    "    all_items = set(events['item_id'].unique())\n",
    "    if include_seen:\n",
    "        items_to_predict = list(all_items)\n",
    "    else:\n",
    "        seen_items = set(events[events['user_id'] == user_id]['item_id'].unique())\n",
    "        items_to_predict = list(all_items - seen_items)\n",
    "    \n",
    "    predictions = [model.predict(user_id, item_id) for item_id in items_to_predict]\n",
    "    recommendations = sorted(predictions, key=lambda x: x.est, reverse=True)[:n]\n",
    "\n",
    "    return pd.DataFrame([(pred.iid, pred.est) for pred in recommendations], columns=['book_id', 'score'])"
   ]
  },
  {
   "cell_type": "code",
   "execution_count": 59,
   "id": "78f8dc82",
   "metadata": {},
   "outputs": [
    {
     "data": {
      "text/html": [
       "<div>\n",
       "<style scoped>\n",
       "    .dataframe tbody tr th:only-of-type {\n",
       "        vertical-align: middle;\n",
       "    }\n",
       "\n",
       "    .dataframe tbody tr th {\n",
       "        vertical-align: top;\n",
       "    }\n",
       "\n",
       "    .dataframe thead th {\n",
       "        text-align: right;\n",
       "    }\n",
       "</style>\n",
       "<table border=\"1\" class=\"dataframe\">\n",
       "  <thead>\n",
       "    <tr style=\"text-align: right;\">\n",
       "      <th></th>\n",
       "      <th>book_id</th>\n",
       "      <th>score</th>\n",
       "    </tr>\n",
       "  </thead>\n",
       "  <tbody>\n",
       "    <tr>\n",
       "      <th>0</th>\n",
       "      <td>24812</td>\n",
       "      <td>5.000000</td>\n",
       "    </tr>\n",
       "    <tr>\n",
       "      <th>1</th>\n",
       "      <td>8471387</td>\n",
       "      <td>5.000000</td>\n",
       "    </tr>\n",
       "    <tr>\n",
       "      <th>2</th>\n",
       "      <td>481749</td>\n",
       "      <td>5.000000</td>\n",
       "    </tr>\n",
       "    <tr>\n",
       "      <th>3</th>\n",
       "      <td>30688013</td>\n",
       "      <td>4.996900</td>\n",
       "    </tr>\n",
       "    <tr>\n",
       "      <th>4</th>\n",
       "      <td>1108124</td>\n",
       "      <td>4.979711</td>\n",
       "    </tr>\n",
       "  </tbody>\n",
       "</table>\n",
       "</div>"
      ],
      "text/plain": [
       "    book_id     score\n",
       "0     24812  5.000000\n",
       "1   8471387  5.000000\n",
       "2    481749  5.000000\n",
       "3  30688013  4.996900\n",
       "4   1108124  4.979711"
      ]
     },
     "execution_count": 59,
     "metadata": {},
     "output_type": "execute_result"
    }
   ],
   "source": [
    "get_recommendations_svd(1296647, items, events_train, svd_model, include_seen=False)"
   ]
  },
  {
   "cell_type": "code",
   "execution_count": null,
   "id": "0ed903a3",
   "metadata": {},
   "outputs": [
    {
     "name": "stdout",
     "output_type": "stream",
     "text": [
      "user_id: 1420211\n",
      "История (последние события, recent)\n"
     ]
    },
    {
     "data": {
      "text/html": [
       "<div>\n",
       "<style scoped>\n",
       "    .dataframe tbody tr th:only-of-type {\n",
       "        vertical-align: middle;\n",
       "    }\n",
       "\n",
       "    .dataframe tbody tr th {\n",
       "        vertical-align: top;\n",
       "    }\n",
       "\n",
       "    .dataframe thead th {\n",
       "        text-align: right;\n",
       "    }\n",
       "</style>\n",
       "<table border=\"1\" class=\"dataframe\">\n",
       "  <thead>\n",
       "    <tr style=\"text-align: right;\">\n",
       "      <th></th>\n",
       "      <th>author</th>\n",
       "      <th>title</th>\n",
       "      <th>started_at</th>\n",
       "      <th>read_at</th>\n",
       "      <th>rating</th>\n",
       "      <th>genre_and_votes</th>\n",
       "    </tr>\n",
       "  </thead>\n",
       "  <tbody>\n",
       "    <tr>\n",
       "      <th>16</th>\n",
       "      <td>Julie Buxbaum</td>\n",
       "      <td>Tell Me Three Things</td>\n",
       "      <td>2017-06-27</td>\n",
       "      <td>2017-06-27</td>\n",
       "      <td>5</td>\n",
       "      <td>{'Young Adult': 1367, 'Contemporary': 810, 'Ro...</td>\n",
       "    </tr>\n",
       "    <tr>\n",
       "      <th>17</th>\n",
       "      <td>Rick Yancey</td>\n",
       "      <td>The 5th Wave (The 5th Wave, #1)</td>\n",
       "      <td>2015-09-28</td>\n",
       "      <td>2015-10-03</td>\n",
       "      <td>5</td>\n",
       "      <td>{'Young Adult': 5331, 'Science Fiction': 3197,...</td>\n",
       "    </tr>\n",
       "    <tr>\n",
       "      <th>18</th>\n",
       "      <td>Lauren Kate</td>\n",
       "      <td>Rapture (Fallen, #4)</td>\n",
       "      <td>2013-01-08</td>\n",
       "      <td>2013-04-15</td>\n",
       "      <td>3</td>\n",
       "      <td>{'Young Adult': 1287, 'Fantasy': 1066, 'Parano...</td>\n",
       "    </tr>\n",
       "    <tr>\n",
       "      <th>19</th>\n",
       "      <td>Lauren Kate</td>\n",
       "      <td>Passion (Fallen, #3)</td>\n",
       "      <td>2013-01-07</td>\n",
       "      <td>2013-01-08</td>\n",
       "      <td>4</td>\n",
       "      <td>{'Young Adult': 1781, 'Fantasy': 1396, 'Parano...</td>\n",
       "    </tr>\n",
       "    <tr>\n",
       "      <th>20</th>\n",
       "      <td>Nicholas Sparks</td>\n",
       "      <td>The Best of Me</td>\n",
       "      <td>2013-01-04</td>\n",
       "      <td>2013-01-07</td>\n",
       "      <td>4</td>\n",
       "      <td>{'Romance': 1540, 'Fiction': 676, 'Womens Fict...</td>\n",
       "    </tr>\n",
       "    <tr>\n",
       "      <th>21</th>\n",
       "      <td>Marie Lu</td>\n",
       "      <td>Legend (Legend, #1)</td>\n",
       "      <td>2013-01-02</td>\n",
       "      <td>2013-01-04</td>\n",
       "      <td>3</td>\n",
       "      <td>{'Young Adult': 6453, 'Science Fiction-Dystopi...</td>\n",
       "    </tr>\n",
       "    <tr>\n",
       "      <th>22</th>\n",
       "      <td>Beth Revis</td>\n",
       "      <td>Across the Universe (Across the Universe, #1)</td>\n",
       "      <td>2012-12-22</td>\n",
       "      <td>2012-12-30</td>\n",
       "      <td>3</td>\n",
       "      <td>{'Young Adult': 3060, 'Science Fiction': 2387,...</td>\n",
       "    </tr>\n",
       "    <tr>\n",
       "      <th>23</th>\n",
       "      <td>Lauren Kate</td>\n",
       "      <td>Torment (Fallen, #2)</td>\n",
       "      <td>2013-01-04</td>\n",
       "      <td>2013-01-07</td>\n",
       "      <td>3</td>\n",
       "      <td>{'Young Adult': 2344, 'Fantasy': 1874, 'Parano...</td>\n",
       "    </tr>\n",
       "    <tr>\n",
       "      <th>24</th>\n",
       "      <td>Kathryn Stockett</td>\n",
       "      <td>The Help</td>\n",
       "      <td>2011-12-14</td>\n",
       "      <td>2011-12-26</td>\n",
       "      <td>3</td>\n",
       "      <td>{'Fiction': 12016, 'Historical-Historical Fict...</td>\n",
       "    </tr>\n",
       "    <tr>\n",
       "      <th>25</th>\n",
       "      <td>Amanda Hocking</td>\n",
       "      <td>Hollowland (The Hollows, #1)</td>\n",
       "      <td>2011-12-13</td>\n",
       "      <td>2011-12-14</td>\n",
       "      <td>4</td>\n",
       "      <td>{'Horror-Zombies': 569, 'Young Adult': 381, 'S...</td>\n",
       "    </tr>\n",
       "  </tbody>\n",
       "</table>\n",
       "</div>"
      ],
      "text/plain": [
       "              author                                          title  \\\n",
       "16     Julie Buxbaum                           Tell Me Three Things   \n",
       "17       Rick Yancey                The 5th Wave (The 5th Wave, #1)   \n",
       "18       Lauren Kate                           Rapture (Fallen, #4)   \n",
       "19       Lauren Kate                           Passion (Fallen, #3)   \n",
       "20   Nicholas Sparks                                 The Best of Me   \n",
       "21          Marie Lu                            Legend (Legend, #1)   \n",
       "22        Beth Revis  Across the Universe (Across the Universe, #1)   \n",
       "23       Lauren Kate                           Torment (Fallen, #2)   \n",
       "24  Kathryn Stockett                                       The Help   \n",
       "25    Amanda Hocking                   Hollowland (The Hollows, #1)   \n",
       "\n",
       "    started_at     read_at  rating  \\\n",
       "16  2017-06-27  2017-06-27       5   \n",
       "17  2015-09-28  2015-10-03       5   \n",
       "18  2013-01-08  2013-04-15       3   \n",
       "19  2013-01-07  2013-01-08       4   \n",
       "20  2013-01-04  2013-01-07       4   \n",
       "21  2013-01-02  2013-01-04       3   \n",
       "22  2012-12-22  2012-12-30       3   \n",
       "23  2013-01-04  2013-01-07       3   \n",
       "24  2011-12-14  2011-12-26       3   \n",
       "25  2011-12-13  2011-12-14       4   \n",
       "\n",
       "                                      genre_and_votes  \n",
       "16  {'Young Adult': 1367, 'Contemporary': 810, 'Ro...  \n",
       "17  {'Young Adult': 5331, 'Science Fiction': 3197,...  \n",
       "18  {'Young Adult': 1287, 'Fantasy': 1066, 'Parano...  \n",
       "19  {'Young Adult': 1781, 'Fantasy': 1396, 'Parano...  \n",
       "20  {'Romance': 1540, 'Fiction': 676, 'Womens Fict...  \n",
       "21  {'Young Adult': 6453, 'Science Fiction-Dystopi...  \n",
       "22  {'Young Adult': 3060, 'Science Fiction': 2387,...  \n",
       "23  {'Young Adult': 2344, 'Fantasy': 1874, 'Parano...  \n",
       "24  {'Fiction': 12016, 'Historical-Historical Fict...  \n",
       "25  {'Horror-Zombies': 569, 'Young Adult': 381, 'S...  "
      ]
     },
     "metadata": {},
     "output_type": "display_data"
    },
    {
     "name": "stdout",
     "output_type": "stream",
     "text": [
      "Рекомендации\n"
     ]
    },
    {
     "data": {
      "text/html": [
       "<div>\n",
       "<style scoped>\n",
       "    .dataframe tbody tr th:only-of-type {\n",
       "        vertical-align: middle;\n",
       "    }\n",
       "\n",
       "    .dataframe tbody tr th {\n",
       "        vertical-align: top;\n",
       "    }\n",
       "\n",
       "    .dataframe thead th {\n",
       "        text-align: right;\n",
       "    }\n",
       "</style>\n",
       "<table border=\"1\" class=\"dataframe\">\n",
       "  <thead>\n",
       "    <tr style=\"text-align: right;\">\n",
       "      <th></th>\n",
       "      <th>book_id</th>\n",
       "      <th>score</th>\n",
       "      <th>item_id</th>\n",
       "      <th>author</th>\n",
       "      <th>title</th>\n",
       "      <th>genre_and_votes</th>\n",
       "    </tr>\n",
       "  </thead>\n",
       "  <tbody>\n",
       "    <tr>\n",
       "      <th>0</th>\n",
       "      <td>24812</td>\n",
       "      <td>5.000000</td>\n",
       "      <td>24812</td>\n",
       "      <td>Bill Watterson</td>\n",
       "      <td>The Complete Calvin and Hobbes</td>\n",
       "      <td>{'Sequential Art-Comics': 867, 'Humor': 378, '...</td>\n",
       "    </tr>\n",
       "    <tr>\n",
       "      <th>1</th>\n",
       "      <td>481749</td>\n",
       "      <td>4.997968</td>\n",
       "      <td>481749</td>\n",
       "      <td>James E. Talmage</td>\n",
       "      <td>Jesus the Christ</td>\n",
       "      <td>{'Religion': 451, 'Christianity-Lds': 256, 'No...</td>\n",
       "    </tr>\n",
       "    <tr>\n",
       "      <th>2</th>\n",
       "      <td>9810317</td>\n",
       "      <td>4.963374</td>\n",
       "      <td>9810317</td>\n",
       "      <td>Margaret Mitchell, Pat Conroy</td>\n",
       "      <td>Gone with the Wind</td>\n",
       "      <td>{'Classics': 13093, 'Historical-Historical Fic...</td>\n",
       "    </tr>\n",
       "    <tr>\n",
       "      <th>3</th>\n",
       "      <td>30688013</td>\n",
       "      <td>4.952521</td>\n",
       "      <td>30688013</td>\n",
       "      <td>Robin Hobb</td>\n",
       "      <td>Assassin's Fate (The Fitz and the Fool, #3)</td>\n",
       "      <td>{'Fantasy': 1657, 'Fiction': 172, 'Fantasy-Epi...</td>\n",
       "    </tr>\n",
       "    <tr>\n",
       "      <th>4</th>\n",
       "      <td>29844341</td>\n",
       "      <td>4.951126</td>\n",
       "      <td>29844341</td>\n",
       "      <td>John             Lewis, Andrew Aydin, Nate Powell</td>\n",
       "      <td>March</td>\n",
       "      <td>{'Sequential Art-Graphic Novels': 48, 'Nonfict...</td>\n",
       "    </tr>\n",
       "  </tbody>\n",
       "</table>\n",
       "</div>"
      ],
      "text/plain": [
       "    book_id     score   item_id  \\\n",
       "0     24812  5.000000     24812   \n",
       "1    481749  4.997968    481749   \n",
       "2   9810317  4.963374   9810317   \n",
       "3  30688013  4.952521  30688013   \n",
       "4  29844341  4.951126  29844341   \n",
       "\n",
       "                                              author  \\\n",
       "0                                     Bill Watterson   \n",
       "1                                   James E. Talmage   \n",
       "2                      Margaret Mitchell, Pat Conroy   \n",
       "3                                         Robin Hobb   \n",
       "4  John             Lewis, Andrew Aydin, Nate Powell   \n",
       "\n",
       "                                         title  \\\n",
       "0               The Complete Calvin and Hobbes   \n",
       "1                             Jesus the Christ   \n",
       "2                           Gone with the Wind   \n",
       "3  Assassin's Fate (The Fitz and the Fool, #3)   \n",
       "4                                        March   \n",
       "\n",
       "                                     genre_and_votes  \n",
       "0  {'Sequential Art-Comics': 867, 'Humor': 378, '...  \n",
       "1  {'Religion': 451, 'Christianity-Lds': 256, 'No...  \n",
       "2  {'Classics': 13093, 'Historical-Historical Fic...  \n",
       "3  {'Fantasy': 1657, 'Fiction': 172, 'Fantasy-Epi...  \n",
       "4  {'Sequential Art-Graphic Novels': 48, 'Nonfict...  "
      ]
     },
     "metadata": {},
     "output_type": "display_data"
    }
   ],
   "source": [
    "user_id = events_train['user_id'].sample().iat[0]\n",
    "\n",
    "print(f\"user_id: {user_id}\")\n",
    "\n",
    "print(\"История (последние события, recent)\")\n",
    "user_history = (\n",
    "    events_train\n",
    "    .query(\"user_id == @user_id\")\n",
    "    .merge(items.set_index(\"item_id\")[[\"author\", \"title\", \"genre_and_votes\"]], on=\"item_id\")\n",
    ")\n",
    "user_history_to_print = user_history[[\"author\", \"title\", \"started_at\", \"read_at\", \"rating\", \"genre_and_votes\"]].tail(10)\n",
    "display(user_history_to_print)\n",
    "\n",
    "print(\"Рекомендации\")\n",
    "user_recommendations = get_recommendations_svd(user_id, items, events_train, svd_model)\n",
    "user_recommendations = user_recommendations.merge(items[[\"item_id\", \"author\", \"title\", \"genre_and_votes\"]], left_on='book_id', right_on=\"item_id\")\n",
    "display(user_recommendations)"
   ]
  },
  {
   "cell_type": "markdown",
   "id": "3817eb52-1161-4e4e-a263-0cb616794a8e",
   "metadata": {},
   "source": [
    "# === Базовые подходы: коллаборативная фильтрация"
   ]
  },
  {
   "cell_type": "code",
   "execution_count": 1,
   "id": "5ae7f494-3ee9-4f49-a61b-9dfb411518bd",
   "metadata": {},
   "outputs": [],
   "source": [
    "import warnings\n",
    "warnings.filterwarnings('ignore')\n",
    "\n",
    "import logging\n",
    "\n",
    "import matplotlib.pyplot as plt\n",
    "import numpy as np\n",
    "import pandas as pd\n",
    "\n",
    "%matplotlib inline\n",
    "%config InlineBackend.figure_format = 'png'\n",
    "%config InlineBackend.figure_format = 'retina'"
   ]
  },
  {
   "cell_type": "code",
   "execution_count": 2,
   "id": "5f655832-4caa-4290-9b34-388e7b3f5d37",
   "metadata": {},
   "outputs": [],
   "source": [
    "items = pd.read_parquet(\"goodsread/items.par\")\n",
    "events = pd.read_parquet(\"goodsread/events.par\")\n",
    "\n",
    "events.rename(columns={'book_id':'item_id'}, inplace=True)\n",
    "\n",
    "user_counts = events['user_id'].value_counts()\n",
    "uids = user_counts[user_counts >= 2].index\n",
    "filtered_events = events[events['user_id'].isin(uids)]\n",
    "filtered_events.sort_values(by='user_id', inplace=True)\n",
    "\n",
    "cols_to_rename = {'book_id': 'item_id'}\n",
    "filtered_events.rename(columns=cols_to_rename, inplace=True)\n",
    "items.rename(columns=cols_to_rename, inplace=True)\n",
    "\n",
    "unique_users = list(filtered_events['user_id'].unique())\n",
    "ids_mapping = {user:idx for idx, user in enumerate(unique_users, start=1_000_000)}\n",
    "\n",
    "filtered_events['user_id'] = filtered_events['user_id'].map(ids_mapping)\n",
    "filtered_events.reset_index(drop=True, inplace=True)"
   ]
  },
  {
   "cell_type": "code",
   "execution_count": 3,
   "id": "54ca57af",
   "metadata": {},
   "outputs": [],
   "source": [
    "train_test_global_time_split_date = pd.to_datetime('2017-08-01').date()\n",
    "\n",
    "train_test_global_time_split_idx = filtered_events['started_at'] < train_test_global_time_split_date\n",
    "events_train = filtered_events[train_test_global_time_split_idx]\n",
    "events_test = filtered_events[~train_test_global_time_split_idx]"
   ]
  },
  {
   "cell_type": "code",
   "execution_count": 4,
   "id": "d8f945a6-bd08-4f17-84a3-4a82e00a29c6",
   "metadata": {},
   "outputs": [],
   "source": [
    "import scipy\n",
    "import sklearn.preprocessing \n",
    "\n",
    "user_encoder = sklearn.preprocessing.LabelEncoder()\n",
    "user_encoder.fit(filtered_events['user_id'])\n",
    "\n",
    "events_train['user_id_enc'] = user_encoder.transform(events_train['user_id'])\n",
    "events_test['user_id_enc'] = user_encoder.transform(events_test['user_id'])\n",
    "\n",
    "item_encoder = sklearn.preprocessing.LabelEncoder()\n",
    "item_encoder.fit(items['item_id'])\n",
    "items['item_id_enc'] = item_encoder.transform(items['item_id'])\n",
    "events_train['item_id_enc'] = item_encoder.transform(events_train['item_id'])\n",
    "events_test['item_id_enc'] = item_encoder.transform(events_test['item_id'])"
   ]
  },
  {
   "cell_type": "code",
   "execution_count": 5,
   "id": "2c276ba3",
   "metadata": {},
   "outputs": [
    {
     "data": {
      "text/plain": [
       "43304"
      ]
     },
     "execution_count": 5,
     "metadata": {},
     "output_type": "execute_result"
    }
   ],
   "source": [
    "np.max(events_train['item_id_enc'])"
   ]
  },
  {
   "cell_type": "code",
   "execution_count": 26,
   "id": "4ed3f183",
   "metadata": {},
   "outputs": [],
   "source": [
    "user_item_matrix_train = scipy.sparse.csr_matrix(\n",
    "    (\n",
    "        events_train['rating'],\n",
    "        (events_train['user_id_enc'], events_train['item_id_enc'])\n",
    "    ),\n",
    "    dtype=np.int8\n",
    ")"
   ]
  },
  {
   "cell_type": "code",
   "execution_count": 27,
   "id": "c7dc9962",
   "metadata": {},
   "outputs": [
    {
     "data": {
      "text/plain": [
       "0.26370687410235405"
      ]
     },
     "execution_count": 27,
     "metadata": {},
     "output_type": "execute_result"
    }
   ],
   "source": [
    "import sys\n",
    "sum([sys.getsizeof(i) for i in user_item_matrix_train.data])/1024**3"
   ]
  },
  {
   "cell_type": "code",
   "execution_count": 28,
   "id": "b15f02bb",
   "metadata": {},
   "outputs": [
    {
     "name": "stderr",
     "output_type": "stream",
     "text": [
      "100%|██████████| 50/50 [03:31<00:00,  4.23s/it]\n"
     ]
    }
   ],
   "source": [
    "from implicit.als import AlternatingLeastSquares\n",
    "\n",
    "als_model = AlternatingLeastSquares(factors=50,\n",
    "                                    iterations=50, \n",
    "                                    regularization=0.05,\n",
    "                                    random_state=0)\n",
    "als_model.fit(user_item_matrix_train)"
   ]
  },
  {
   "cell_type": "code",
   "execution_count": 29,
   "id": "a0fe006a",
   "metadata": {},
   "outputs": [],
   "source": [
    "def get_recommendations_als(user_item_matrix, model, user_id, user_encoder, item_encoder, include_seen=True, n=5):\n",
    "    user_id_enc = user_encoder.transform([user_id])[0]\n",
    "    recommendations = model.recommend(\n",
    "        user_id_enc,\n",
    "        user_item_matrix[user_id_enc],\n",
    "        filter_already_liked_items = not include_seen,\n",
    "        N=n)\n",
    "    recommendations = pd.DataFrame({'item_id_enc':recommendations[0],\n",
    "                                    'score':recommendations[1]})\n",
    "    recommendations['item_id'] = item_encoder.inverse_transform(recommendations[\"item_id_enc\"])\n",
    "\n",
    "    return recommendations"
   ]
  },
  {
   "cell_type": "code",
   "execution_count": 30,
   "id": "1ee899f6",
   "metadata": {},
   "outputs": [],
   "source": [
    "user_item_matrix_test = scipy.sparse.csr_matrix(\n",
    "    (\n",
    "        events_test['rating'],\n",
    "        (events_test['user_id_enc'], events_test['item_id_enc'])\n",
    "    ),\n",
    "    dtype=np.int8\n",
    ")"
   ]
  },
  {
   "cell_type": "code",
   "execution_count": 31,
   "id": "5a4ba9eb",
   "metadata": {},
   "outputs": [],
   "source": [
    "random_user = events_test.sample(1)['user_id'].iat[0]\n",
    "\n",
    "reki = get_recommendations_als(user_item_matrix=user_item_matrix_test,\n",
    "                               model=als_model,\n",
    "                               user_id=random_user,\n",
    "                               user_encoder=user_encoder,\n",
    "                               item_encoder=item_encoder,\n",
    "                               n=5)"
   ]
  },
  {
   "cell_type": "code",
   "execution_count": 32,
   "id": "43801f59",
   "metadata": {},
   "outputs": [
    {
     "name": "stdout",
     "output_type": "stream",
     "text": [
      "История прочтения пользователя: \n"
     ]
    },
    {
     "data": {
      "text/html": [
       "<div>\n",
       "<style scoped>\n",
       "    .dataframe tbody tr th:only-of-type {\n",
       "        vertical-align: middle;\n",
       "    }\n",
       "\n",
       "    .dataframe tbody tr th {\n",
       "        vertical-align: top;\n",
       "    }\n",
       "\n",
       "    .dataframe thead th {\n",
       "        text-align: right;\n",
       "    }\n",
       "</style>\n",
       "<table border=\"1\" class=\"dataframe\">\n",
       "  <thead>\n",
       "    <tr style=\"text-align: right;\">\n",
       "      <th></th>\n",
       "      <th>user_id</th>\n",
       "      <th>item_id</th>\n",
       "      <th>started_at</th>\n",
       "      <th>read_at</th>\n",
       "      <th>is_read</th>\n",
       "      <th>rating</th>\n",
       "      <th>is_reviewed</th>\n",
       "      <th>started_at_month</th>\n",
       "      <th>author</th>\n",
       "      <th>title</th>\n",
       "      <th>genre_and_votes</th>\n",
       "    </tr>\n",
       "  </thead>\n",
       "  <tbody>\n",
       "    <tr>\n",
       "      <th>0</th>\n",
       "      <td>1187393</td>\n",
       "      <td>27405006</td>\n",
       "      <td>2017-05-24</td>\n",
       "      <td>2017-05-28</td>\n",
       "      <td>True</td>\n",
       "      <td>3</td>\n",
       "      <td>False</td>\n",
       "      <td>2017-05-01</td>\n",
       "      <td>Elan Mastai</td>\n",
       "      <td>All Our Wrong Todays</td>\n",
       "      <td>{'Science Fiction': 749, 'Fiction': 553, 'Scie...</td>\n",
       "    </tr>\n",
       "    <tr>\n",
       "      <th>1</th>\n",
       "      <td>1187393</td>\n",
       "      <td>65110</td>\n",
       "      <td>2017-01-26</td>\n",
       "      <td>2017-01-26</td>\n",
       "      <td>True</td>\n",
       "      <td>4</td>\n",
       "      <td>False</td>\n",
       "      <td>2017-01-01</td>\n",
       "      <td>Lemony Snicket, Brett Helquist</td>\n",
       "      <td>The Penultimate Peril (A Series of Unfortunate...</td>\n",
       "      <td>{'Fiction': 964, 'Young Adult': 791, 'Children...</td>\n",
       "    </tr>\n",
       "    <tr>\n",
       "      <th>2</th>\n",
       "      <td>1187393</td>\n",
       "      <td>27071490</td>\n",
       "      <td>2017-01-25</td>\n",
       "      <td>2017-02-05</td>\n",
       "      <td>True</td>\n",
       "      <td>5</td>\n",
       "      <td>False</td>\n",
       "      <td>2017-01-01</td>\n",
       "      <td>Yaa Gyasi</td>\n",
       "      <td>Homegoing</td>\n",
       "      <td>{'Historical-Historical Fiction': 3664, 'Ficti...</td>\n",
       "    </tr>\n",
       "  </tbody>\n",
       "</table>\n",
       "</div>"
      ],
      "text/plain": [
       "   user_id   item_id  started_at     read_at  is_read  rating  is_reviewed  \\\n",
       "0  1187393  27405006  2017-05-24  2017-05-28     True       3        False   \n",
       "1  1187393     65110  2017-01-26  2017-01-26     True       4        False   \n",
       "2  1187393  27071490  2017-01-25  2017-02-05     True       5        False   \n",
       "\n",
       "  started_at_month                          author  \\\n",
       "0       2017-05-01                     Elan Mastai   \n",
       "1       2017-01-01  Lemony Snicket, Brett Helquist   \n",
       "2       2017-01-01                       Yaa Gyasi   \n",
       "\n",
       "                                               title  \\\n",
       "0                               All Our Wrong Todays   \n",
       "1  The Penultimate Peril (A Series of Unfortunate...   \n",
       "2                                          Homegoing   \n",
       "\n",
       "                                     genre_and_votes  \n",
       "0  {'Science Fiction': 749, 'Fiction': 553, 'Scie...  \n",
       "1  {'Fiction': 964, 'Young Adult': 791, 'Children...  \n",
       "2  {'Historical-Historical Fiction': 3664, 'Ficti...  "
      ]
     },
     "execution_count": 32,
     "metadata": {},
     "output_type": "execute_result"
    }
   ],
   "source": [
    "history = filtered_events[filtered_events['user_id'] == random_user]\n",
    "print('История прочтения пользователя: ')\n",
    "history.merge(items[['item_id', 'author', 'title', 'genre_and_votes']], on='item_id').head(3)"
   ]
  },
  {
   "cell_type": "code",
   "execution_count": 33,
   "id": "3336169c",
   "metadata": {},
   "outputs": [
    {
     "name": "stdout",
     "output_type": "stream",
     "text": [
      "Рекомендации пользователю: \n"
     ]
    },
    {
     "data": {
      "text/html": [
       "<div>\n",
       "<style scoped>\n",
       "    .dataframe tbody tr th:only-of-type {\n",
       "        vertical-align: middle;\n",
       "    }\n",
       "\n",
       "    .dataframe tbody tr th {\n",
       "        vertical-align: top;\n",
       "    }\n",
       "\n",
       "    .dataframe thead th {\n",
       "        text-align: right;\n",
       "    }\n",
       "</style>\n",
       "<table border=\"1\" class=\"dataframe\">\n",
       "  <thead>\n",
       "    <tr style=\"text-align: right;\">\n",
       "      <th></th>\n",
       "      <th>item_id_enc</th>\n",
       "      <th>score</th>\n",
       "      <th>item_id</th>\n",
       "      <th>author</th>\n",
       "      <th>title</th>\n",
       "      <th>genre_and_votes</th>\n",
       "    </tr>\n",
       "  </thead>\n",
       "  <tbody>\n",
       "    <tr>\n",
       "      <th>0</th>\n",
       "      <td>35810</td>\n",
       "      <td>0.459273</td>\n",
       "      <td>18007564</td>\n",
       "      <td>Andy Weir</td>\n",
       "      <td>The Martian</td>\n",
       "      <td>{'Science Fiction': 11966, 'Fiction': 8430}</td>\n",
       "    </tr>\n",
       "    <tr>\n",
       "      <th>1</th>\n",
       "      <td>37497</td>\n",
       "      <td>0.414230</td>\n",
       "      <td>20170404</td>\n",
       "      <td>Emily St. John Mandel</td>\n",
       "      <td>Station Eleven</td>\n",
       "      <td>{'Fiction': 5860, 'Science Fiction': 3274, 'Sc...</td>\n",
       "    </tr>\n",
       "    <tr>\n",
       "      <th>2</th>\n",
       "      <td>38569</td>\n",
       "      <td>0.343319</td>\n",
       "      <td>22055262</td>\n",
       "      <td>V.E. Schwab</td>\n",
       "      <td>A Darker Shade of Magic (Shades of Magic, #1)</td>\n",
       "      <td>{'Fantasy': 14539, 'Young Adult': 2101, 'Ficti...</td>\n",
       "    </tr>\n",
       "    <tr>\n",
       "      <th>3</th>\n",
       "      <td>35259</td>\n",
       "      <td>0.328718</td>\n",
       "      <td>17675462</td>\n",
       "      <td>Maggie Stiefvater</td>\n",
       "      <td>The Raven Boys (The Raven Cycle, #1)</td>\n",
       "      <td>{'Fantasy': 9481, 'Young Adult': 7067, 'Fantas...</td>\n",
       "    </tr>\n",
       "    <tr>\n",
       "      <th>4</th>\n",
       "      <td>36086</td>\n",
       "      <td>0.283066</td>\n",
       "      <td>18143977</td>\n",
       "      <td>Anthony Doerr</td>\n",
       "      <td>All the Light We Cannot See</td>\n",
       "      <td>{'Historical-Historical Fiction': 13679, 'Fict...</td>\n",
       "    </tr>\n",
       "  </tbody>\n",
       "</table>\n",
       "</div>"
      ],
      "text/plain": [
       "   item_id_enc     score   item_id                 author  \\\n",
       "0        35810  0.459273  18007564              Andy Weir   \n",
       "1        37497  0.414230  20170404  Emily St. John Mandel   \n",
       "2        38569  0.343319  22055262            V.E. Schwab   \n",
       "3        35259  0.328718  17675462      Maggie Stiefvater   \n",
       "4        36086  0.283066  18143977          Anthony Doerr   \n",
       "\n",
       "                                           title  \\\n",
       "0                                    The Martian   \n",
       "1                                 Station Eleven   \n",
       "2  A Darker Shade of Magic (Shades of Magic, #1)   \n",
       "3           The Raven Boys (The Raven Cycle, #1)   \n",
       "4                    All the Light We Cannot See   \n",
       "\n",
       "                                     genre_and_votes  \n",
       "0        {'Science Fiction': 11966, 'Fiction': 8430}  \n",
       "1  {'Fiction': 5860, 'Science Fiction': 3274, 'Sc...  \n",
       "2  {'Fantasy': 14539, 'Young Adult': 2101, 'Ficti...  \n",
       "3  {'Fantasy': 9481, 'Young Adult': 7067, 'Fantas...  \n",
       "4  {'Historical-Historical Fiction': 13679, 'Fict...  "
      ]
     },
     "execution_count": 33,
     "metadata": {},
     "output_type": "execute_result"
    }
   ],
   "source": [
    "print('Рекомендации пользователю: ')\n",
    "reki.merge(items[['item_id', 'author', 'title', 'genre_and_votes']], on='item_id')"
   ]
  },
  {
   "cell_type": "markdown",
   "id": "91d7c29d",
   "metadata": {},
   "source": [
    "# === Базовые подходы: контентные рекомендации"
   ]
  },
  {
   "cell_type": "code",
   "execution_count": 5,
   "id": "ba248faf",
   "metadata": {},
   "outputs": [
    {
     "name": "stdout",
     "output_type": "stream",
     "text": [
      "<class 'pandas.core.frame.DataFrame'>\n",
      "RangeIndex: 43312 entries, 0 to 43311\n",
      "Data columns (total 20 columns):\n",
      " #   Column                Non-Null Count  Dtype  \n",
      "---  ------                --------------  -----  \n",
      " 0   item_id               43312 non-null  int64  \n",
      " 1   author                43312 non-null  object \n",
      " 2   title                 43312 non-null  object \n",
      " 3   description           43312 non-null  object \n",
      " 4   genre_and_votes       43312 non-null  object \n",
      " 5   num_pages             37001 non-null  Int64  \n",
      " 6   average_rating        43312 non-null  float64\n",
      " 7   ratings_count         43312 non-null  Int64  \n",
      " 8   text_reviews_count    43312 non-null  int64  \n",
      " 9   publisher             43312 non-null  object \n",
      " 10  publication_year      35891 non-null  Int64  \n",
      " 11  country_code          43312 non-null  object \n",
      " 12  language_code         43312 non-null  object \n",
      " 13  format                43312 non-null  object \n",
      " 14  is_ebook              43312 non-null  bool   \n",
      " 15  isbn                  43312 non-null  object \n",
      " 16  isbn13                43312 non-null  object \n",
      " 17  genre_and_votes_dict  42391 non-null  object \n",
      " 18  genre_and_votes_str   42391 non-null  object \n",
      " 19  item_id_enc           43312 non-null  int64  \n",
      "dtypes: Int64(3), bool(1), float64(1), int64(3), object(12)\n",
      "memory usage: 6.4+ MB\n"
     ]
    }
   ],
   "source": [
    "items.info()"
   ]
  },
  {
   "cell_type": "code",
   "execution_count": 6,
   "id": "304c4921",
   "metadata": {},
   "outputs": [],
   "source": [
    "items['genre_and_votes'] = items['genre_and_votes'].apply(eval)"
   ]
  },
  {
   "cell_type": "code",
   "execution_count": 7,
   "id": "2ac5b86d",
   "metadata": {},
   "outputs": [],
   "source": [
    "def get_genres(items):\n",
    "    genres_counter = {}\n",
    "\n",
    "    for idx, row in items.iterrows():\n",
    "        genre_and_votes = row['genre_and_votes']\n",
    "        if genre_and_votes is None or not isinstance(genre_and_votes, dict):\n",
    "            continue\n",
    "        for genre, votes in genre_and_votes.items():\n",
    "            try:\n",
    "                genres_counter[genre] += votes\n",
    "            except KeyError:\n",
    "                genres_counter[genre] = 0\n",
    "    \n",
    "    genres = pd.Series(genres_counter, name='votes')\n",
    "    genres = genres.to_frame()\n",
    "    genres = genres.reset_index().rename(columns={\"index\": \"name\"})\n",
    "    genres.index.name = 'genre_id'\n",
    "\n",
    "    return genres\n",
    "\n",
    "genres = get_genres(items)"
   ]
  },
  {
   "cell_type": "code",
   "execution_count": 8,
   "id": "ec950267",
   "metadata": {},
   "outputs": [
    {
     "data": {
      "text/html": [
       "<div>\n",
       "<style scoped>\n",
       "    .dataframe tbody tr th:only-of-type {\n",
       "        vertical-align: middle;\n",
       "    }\n",
       "\n",
       "    .dataframe tbody tr th {\n",
       "        vertical-align: top;\n",
       "    }\n",
       "\n",
       "    .dataframe thead th {\n",
       "        text-align: right;\n",
       "    }\n",
       "</style>\n",
       "<table border=\"1\" class=\"dataframe\">\n",
       "  <thead>\n",
       "    <tr style=\"text-align: right;\">\n",
       "      <th></th>\n",
       "      <th>name</th>\n",
       "      <th>votes</th>\n",
       "      <th>score</th>\n",
       "    </tr>\n",
       "    <tr>\n",
       "      <th>genre_id</th>\n",
       "      <th></th>\n",
       "      <th></th>\n",
       "      <th></th>\n",
       "    </tr>\n",
       "  </thead>\n",
       "  <tbody>\n",
       "    <tr>\n",
       "      <th>25</th>\n",
       "      <td>Fantasy</td>\n",
       "      <td>6850060</td>\n",
       "      <td>0.149651</td>\n",
       "    </tr>\n",
       "    <tr>\n",
       "      <th>1</th>\n",
       "      <td>Fiction</td>\n",
       "      <td>6406256</td>\n",
       "      <td>0.139955</td>\n",
       "    </tr>\n",
       "    <tr>\n",
       "      <th>38</th>\n",
       "      <td>Classics</td>\n",
       "      <td>3414934</td>\n",
       "      <td>0.074605</td>\n",
       "    </tr>\n",
       "    <tr>\n",
       "      <th>18</th>\n",
       "      <td>Young Adult</td>\n",
       "      <td>3296951</td>\n",
       "      <td>0.072027</td>\n",
       "    </tr>\n",
       "    <tr>\n",
       "      <th>34</th>\n",
       "      <td>Romance</td>\n",
       "      <td>2422614</td>\n",
       "      <td>0.052926</td>\n",
       "    </tr>\n",
       "    <tr>\n",
       "      <th>5</th>\n",
       "      <td>Nonfiction</td>\n",
       "      <td>1737406</td>\n",
       "      <td>0.037957</td>\n",
       "    </tr>\n",
       "    <tr>\n",
       "      <th>16</th>\n",
       "      <td>Historical-Historical Fiction</td>\n",
       "      <td>1531205</td>\n",
       "      <td>0.033452</td>\n",
       "    </tr>\n",
       "    <tr>\n",
       "      <th>20</th>\n",
       "      <td>Mystery</td>\n",
       "      <td>1371196</td>\n",
       "      <td>0.029956</td>\n",
       "    </tr>\n",
       "    <tr>\n",
       "      <th>24</th>\n",
       "      <td>Science Fiction</td>\n",
       "      <td>1218917</td>\n",
       "      <td>0.026629</td>\n",
       "    </tr>\n",
       "    <tr>\n",
       "      <th>33</th>\n",
       "      <td>Fantasy-Paranormal</td>\n",
       "      <td>857012</td>\n",
       "      <td>0.018723</td>\n",
       "    </tr>\n",
       "  </tbody>\n",
       "</table>\n",
       "</div>"
      ],
      "text/plain": [
       "                                   name    votes     score\n",
       "genre_id                                                  \n",
       "25                              Fantasy  6850060  0.149651\n",
       "1                               Fiction  6406256  0.139955\n",
       "38                             Classics  3414934  0.074605\n",
       "18                          Young Adult  3296951  0.072027\n",
       "34                              Romance  2422614  0.052926\n",
       "5                            Nonfiction  1737406  0.037957\n",
       "16        Historical-Historical Fiction  1531205  0.033452\n",
       "20                              Mystery  1371196  0.029956\n",
       "24                      Science Fiction  1218917  0.026629\n",
       "33                   Fantasy-Paranormal   857012  0.018723"
      ]
     },
     "execution_count": 8,
     "metadata": {},
     "output_type": "execute_result"
    }
   ],
   "source": [
    "genres['score'] = genres['votes']/genres['votes'].sum()\n",
    "genres.sort_values(by='score', ascending=False).head(10)"
   ]
  },
  {
   "cell_type": "code",
   "execution_count": 9,
   "id": "7267cae6",
   "metadata": {},
   "outputs": [],
   "source": [
    "import scipy\n",
    "\n",
    "def get_item2genre_matrix(genres, items):\n",
    "\n",
    "    genre_names_to_id = genres.reset_index().set_index(\"name\")[\"genre_id\"].to_dict() # словарь id:название жанра\n",
    "    \n",
    "    # list to build CSR matrix\n",
    "    genres_csr_data = []\n",
    "    genres_csr_row_idx = []\n",
    "    genres_csr_col_idx = []\n",
    "    \n",
    "    for item_idx, (k, v) in enumerate(items.iterrows()):\n",
    "        if v[\"genre_and_votes\"] is None:\n",
    "            continue\n",
    "        for genre_name, votes in v[\"genre_and_votes\"].items():\n",
    "            genre_idx = genre_names_to_id[genre_name]\n",
    "            genres_csr_data.append(int(votes))\n",
    "            genres_csr_row_idx.append(item_idx)\n",
    "            genres_csr_col_idx.append(genre_idx)\n",
    "\n",
    "    genres_csr = scipy.sparse.csr_matrix((genres_csr_data, (genres_csr_row_idx, genres_csr_col_idx)), shape=(len(items), len(genres)))\n",
    "    # нормализуем, чтобы сумма оценок принадлежности к жанру была равна 1\n",
    "    genres_csr = sklearn.preprocessing.normalize(genres_csr, norm='l1', axis=1)\n",
    "    \n",
    "    return genres_csr"
   ]
  },
  {
   "cell_type": "code",
   "execution_count": 10,
   "id": "ec995d4a",
   "metadata": {},
   "outputs": [],
   "source": [
    "items = items.sort_values(by=\"item_id_enc\")\n",
    "all_items_genres_csr = get_item2genre_matrix(genres, items)"
   ]
  },
  {
   "cell_type": "code",
   "execution_count": 12,
   "id": "437a2ee5",
   "metadata": {},
   "outputs": [
    {
     "data": {
      "text/plain": [
       "<Compressed Sparse Row sparse matrix of dtype 'float64'\n",
       "\twith 149 stored elements and shape (22, 815)>"
      ]
     },
     "execution_count": 12,
     "metadata": {},
     "output_type": "execute_result"
    }
   ],
   "source": [
    "user_id = 1000010\n",
    "user_events = events_train.query(\"user_id == @user_id\")[[\"item_id\", \"rating\"]]\n",
    "user_items = items[items[\"item_id\"].isin(user_events[\"item_id\"])]\n",
    "\n",
    "user_items_genres_csr = get_item2genre_matrix(genres, user_items)\n",
    "user_items_genres_csr "
   ]
  },
  {
   "cell_type": "code",
   "execution_count": 13,
   "id": "f7367f75",
   "metadata": {},
   "outputs": [],
   "source": [
    "user_ratings = user_events[\"rating\"].to_numpy() / 5\n",
    "user_ratings = np.expand_dims(user_ratings, axis=1)\n",
    "\n",
    "user_items_genres_weighted = user_items_genres_csr.multiply(user_ratings)\n",
    "\n",
    "user_genres_scores = np.asarray(user_items_genres_weighted.mean(axis=0)) "
   ]
  },
  {
   "cell_type": "code",
   "execution_count": 14,
   "id": "7a4b1164",
   "metadata": {},
   "outputs": [],
   "source": [
    "user_ratings = user_events[\"rating\"].to_numpy() / 5\n",
    "user_ratings = np.expand_dims(user_ratings, axis=1)\n",
    "\n",
    "user_items_genres_weighted = user_items_genres_csr.multiply(user_ratings)\n",
    "\n",
    "user_genres_scores = np.asarray(user_items_genres_weighted.mean(axis=0)) "
   ]
  },
  {
   "cell_type": "code",
   "execution_count": 15,
   "id": "55d83ad4",
   "metadata": {},
   "outputs": [],
   "source": [
    "from sklearn.metrics.pairwise import cosine_similarity\n",
    "\n",
    "similarity_scores = cosine_similarity(all_items_genres_csr, user_genres_scores)\n",
    "similarity_scores = similarity_scores.flatten()\n",
    "\n",
    "k = 5\n",
    "top_k_indices = (-similarity_scores).argsort()[:k]"
   ]
  },
  {
   "cell_type": "code",
   "execution_count": 24,
   "id": "80db8c8a",
   "metadata": {},
   "outputs": [
    {
     "data": {
      "text/plain": [
       "array([ 4471,  1120, 14087,  4460,  1988])"
      ]
     },
     "execution_count": 24,
     "metadata": {},
     "output_type": "execute_result"
    }
   ],
   "source": [
    "top_k_indices"
   ]
  },
  {
   "cell_type": "code",
   "execution_count": 25,
   "id": "d9b9bd09",
   "metadata": {},
   "outputs": [
    {
     "data": {
      "text/html": [
       "<div>\n",
       "<style scoped>\n",
       "    .dataframe tbody tr th:only-of-type {\n",
       "        vertical-align: middle;\n",
       "    }\n",
       "\n",
       "    .dataframe tbody tr th {\n",
       "        vertical-align: top;\n",
       "    }\n",
       "\n",
       "    .dataframe thead th {\n",
       "        text-align: right;\n",
       "    }\n",
       "</style>\n",
       "<table border=\"1\" class=\"dataframe\">\n",
       "  <thead>\n",
       "    <tr style=\"text-align: right;\">\n",
       "      <th></th>\n",
       "      <th>author</th>\n",
       "      <th>title</th>\n",
       "      <th>genre_and_votes</th>\n",
       "    </tr>\n",
       "  </thead>\n",
       "  <tbody>\n",
       "    <tr>\n",
       "      <th>10541</th>\n",
       "      <td>Ray Bradbury</td>\n",
       "      <td>Farewell Summer (Green Town, #3)</td>\n",
       "      <td>{'Fiction': 170, 'Fantasy': 72, 'Science Fiction': 72, 'Classics': 52}</td>\n",
       "    </tr>\n",
       "    <tr>\n",
       "      <th>25073</th>\n",
       "      <td>John Fowles</td>\n",
       "      <td>The Magus</td>\n",
       "      <td>{'Fiction': 1204, 'Classics': 421, 'Fantasy': 228, 'Mystery': 203, 'Literature': 167}</td>\n",
       "    </tr>\n",
       "    <tr>\n",
       "      <th>1555</th>\n",
       "      <td>G.K. Chesterton</td>\n",
       "      <td>The Napoleon of Notting Hill</td>\n",
       "      <td>{'Fiction': 166, 'Classics': 88, 'Fantasy': 44, 'Humor': 22, 'Literature': 20}</td>\n",
       "    </tr>\n",
       "    <tr>\n",
       "      <th>21241</th>\n",
       "      <td>Ray Bradbury</td>\n",
       "      <td>Dandelion Wine (Green Town, #1)</td>\n",
       "      <td>{'Fiction': 1438, 'Classics': 914, 'Science Fiction': 529, 'Fantasy': 456, 'Young Adult': 212}</td>\n",
       "    </tr>\n",
       "    <tr>\n",
       "      <th>41250</th>\n",
       "      <td>Samuel Butler</td>\n",
       "      <td>Erewhon (Erewhon , #1)</td>\n",
       "      <td>{'Fiction': 162, 'Classics': 139, 'Science Fiction': 60, 'Fantasy': 55}</td>\n",
       "    </tr>\n",
       "  </tbody>\n",
       "</table>\n",
       "</div>"
      ],
      "text/plain": [
       "                author                             title  \\\n",
       "10541     Ray Bradbury  Farewell Summer (Green Town, #3)   \n",
       "25073      John Fowles                         The Magus   \n",
       "1555   G.K. Chesterton      The Napoleon of Notting Hill   \n",
       "21241     Ray Bradbury   Dandelion Wine (Green Town, #1)   \n",
       "41250    Samuel Butler            Erewhon (Erewhon , #1)   \n",
       "\n",
       "                                                                                      genre_and_votes  \n",
       "10541                          {'Fiction': 170, 'Fantasy': 72, 'Science Fiction': 72, 'Classics': 52}  \n",
       "25073           {'Fiction': 1204, 'Classics': 421, 'Fantasy': 228, 'Mystery': 203, 'Literature': 167}  \n",
       "1555                   {'Fiction': 166, 'Classics': 88, 'Fantasy': 44, 'Humor': 22, 'Literature': 20}  \n",
       "21241  {'Fiction': 1438, 'Classics': 914, 'Science Fiction': 529, 'Fantasy': 456, 'Young Adult': 212}  \n",
       "41250                         {'Fiction': 162, 'Classics': 139, 'Science Fiction': 60, 'Fantasy': 55}  "
      ]
     },
     "metadata": {},
     "output_type": "display_data"
    }
   ],
   "source": [
    "selected_items = items[items[\"item_id_enc\"].isin(top_k_indices)]\n",
    "\n",
    "with pd.option_context(\"max_colwidth\", 100):\n",
    "   display(selected_items[[\"author\", \"title\", \"genre_and_votes\"]])"
   ]
  },
  {
   "cell_type": "markdown",
   "id": "dfdeb7c3-0935-4bee-8b93-dfe26091289b",
   "metadata": {},
   "source": [
    "# === Базовые подходы: валидация"
   ]
  },
  {
   "cell_type": "code",
   "execution_count": 36,
   "id": "41342ba6",
   "metadata": {},
   "outputs": [],
   "source": [
    "user_ids_encoded = range(len(user_encoder.classes_))"
   ]
  },
  {
   "cell_type": "code",
   "execution_count": 38,
   "id": "12911963",
   "metadata": {},
   "outputs": [],
   "source": [
    "als_recommendations = als_model.recommend(user_ids_encoded, \n",
    "    user_item_matrix_train[user_ids_encoded], \n",
    "    filter_already_liked_items=False, N=100) "
   ]
  },
  {
   "cell_type": "code",
   "execution_count": 53,
   "id": "7aa5e676",
   "metadata": {},
   "outputs": [],
   "source": [
    "# преобразуем полученные рекомендации в табличный формат\n",
    "item_ids_enc = als_recommendations[0]\n",
    "als_scores = als_recommendations[1]\n",
    "\n",
    "als_recommendations = pd.DataFrame({\n",
    "    \"user_id_enc\": user_ids_encoded,\n",
    "    \"item_id_enc\": item_ids_enc.tolist(), \n",
    "    \"score\": als_scores.tolist()})\n",
    "als_recommendations = als_recommendations.explode([\"item_id_enc\", \"score\"], ignore_index=True)\n",
    "\n",
    "# приводим типы данных\n",
    "als_recommendations[\"item_id_enc\"] = als_recommendations[\"item_id_enc\"].astype(\"int\")\n",
    "als_recommendations[\"score\"] = als_recommendations[\"score\"].astype(\"float\")\n",
    "\n",
    "# получаем изначальные идентификаторы\n",
    "als_recommendations[\"user_id\"] = user_encoder.inverse_transform(als_recommendations[\"user_id_enc\"])\n",
    "als_recommendations[\"item_id\"] = item_encoder.inverse_transform(als_recommendations[\"item_id_enc\"])\n",
    "als_recommendations = als_recommendations.drop(columns=[\"user_id_enc\", \"item_id_enc\"])"
   ]
  },
  {
   "cell_type": "code",
   "execution_count": 25,
   "id": "28f429e6-b9da-4231-afba-25dd8e606a23",
   "metadata": {},
   "outputs": [],
   "source": [
    "def process_events_recs_for_binary_metrics(events_train, events_test, recs, top_k=None):\n",
    "\n",
    "    \"\"\"\n",
    "    размечает пары <user_id, item_id> для общего множества пользователей признаками\n",
    "    - gt (ground truth)\n",
    "    - pr (prediction)\n",
    "    top_k: расчёт ведётся только для top k-рекомендаций\n",
    "    \"\"\"\n",
    "\n",
    "    events_test[\"gt\"] = True\n",
    "    common_users = set(events_test[\"user_id\"]) & set(recs[\"user_id\"])\n",
    "\n",
    "    print(f\"Common users: {len(common_users)}\")\n",
    "    \n",
    "    events_for_common_users = events_test[events_test[\"user_id\"].isin(common_users)].copy()\n",
    "    recs_for_common_users = recs[recs[\"user_id\"].isin(common_users)].copy()\n",
    "\n",
    "    recs_for_common_users = recs_for_common_users.sort_values([\"user_id\", \"score\"], ascending=[True, False])\n",
    "\n",
    "    # оставляет только те item_id, которые были в events_train, \n",
    "    # т. к. модель не имела никакой возможности давать рекомендации для новых айтемов\n",
    "    events_for_common_users = events_for_common_users[events_for_common_users[\"item_id\"].isin(events_train[\"item_id\"].unique())]\n",
    "\n",
    "    if top_k is not None:\n",
    "        recs_for_common_users = recs_for_common_users.groupby(\"user_id\").head(top_k)\n",
    "    \n",
    "    events_recs_common = events_for_common_users[[\"user_id\", \"item_id\", \"gt\"]].merge(\n",
    "        recs_for_common_users[[\"user_id\", \"item_id\", \"score\"]], \n",
    "        on=[\"user_id\", \"item_id\"], how=\"outer\")    \n",
    "\n",
    "    events_recs_common[\"gt\"] = events_recs_common[\"gt\"].fillna(False)\n",
    "    events_recs_common[\"pr\"] = ~events_recs_common[\"score\"].isnull()\n",
    "    \n",
    "    events_recs_common[\"tp\"] = events_recs_common[\"gt\"] & events_recs_common[\"pr\"]\n",
    "    events_recs_common[\"fp\"] = ~events_recs_common[\"gt\"] & events_recs_common[\"pr\"]\n",
    "    events_recs_common[\"fn\"] = events_recs_common[\"gt\"] & ~events_recs_common[\"pr\"]\n",
    "\n",
    "    return events_recs_common"
   ]
  },
  {
   "cell_type": "code",
   "execution_count": 61,
   "id": "0b1724e0",
   "metadata": {},
   "outputs": [
    {
     "name": "stdout",
     "output_type": "stream",
     "text": [
      "Common users: 123223\n"
     ]
    }
   ],
   "source": [
    "events_recs_for_binary_metrics = process_events_recs_for_binary_metrics(events_train,\n",
    "                                                                        events_test, \n",
    "                                                                        als_recommendations, \n",
    "                                                                        top_k=5)"
   ]
  },
  {
   "cell_type": "code",
   "execution_count": 26,
   "id": "89dcbc1f",
   "metadata": {},
   "outputs": [],
   "source": [
    "def compute_cls_metrics(events_recs_for_binary_metric):\n",
    "    \n",
    "    groupper = events_recs_for_binary_metric.groupby(\"user_id\")\n",
    "\n",
    "    # precision = tp / (tp + fp)\n",
    "    precision = groupper[\"tp\"].sum()/(groupper[\"tp\"].sum()+groupper[\"fp\"].sum())\n",
    "    precision = precision.fillna(0).mean()\n",
    "    \n",
    "    # recall = tp / (tp + fn)\n",
    "    recall = groupper['tp'].sum()/(groupper['tp'].sum()+groupper['fn'].sum())\n",
    "    recall = recall.fillna(0).mean()\n",
    "\n",
    "    return precision, recall"
   ]
  },
  {
   "cell_type": "code",
   "execution_count": 64,
   "metadata": {},
   "outputs": [
    {
     "data": {
      "text/plain": [
       "(0.007581376853347184, 0.014121568795222568)"
      ]
     },
     "execution_count": 64,
     "metadata": {},
     "output_type": "execute_result"
    }
   ],
   "source": [
    "compute_cls_metrics(events_recs_for_binary_metrics)"
   ]
  },
  {
   "cell_type": "markdown",
   "id": "100e52c0",
   "metadata": {},
   "source": [
    "### === Факультативное задание ==="
   ]
  },
  {
   "cell_type": "code",
   "execution_count": null,
   "id": "577975e7",
   "metadata": {},
   "outputs": [
    {
     "name": "stdout",
     "output_type": "stream",
     "text": [
      "Common users: 123223\n"
     ]
    },
    {
     "data": {
      "text/plain": [
       "(0.008732947582837622, 0.03130238527136974)"
      ]
     },
     "execution_count": 65,
     "metadata": {},
     "output_type": "execute_result"
    }
   ],
   "source": [
    "events_recs_for_binary_metrics_at10 = process_events_recs_for_binary_metrics(events_train,\n",
    "                                                                        events_test, \n",
    "                                                                        als_recommendations, \n",
    "                                                                        top_k=10)\n",
    "\n",
    "compute_cls_metrics(events_recs_for_binary_metrics_at10)"
   ]
  },
  {
   "cell_type": "code",
   "execution_count": 66,
   "id": "a47ebfc4",
   "metadata": {},
   "outputs": [
    {
     "name": "stdout",
     "output_type": "stream",
     "text": [
      "Common users: 123223\n"
     ]
    },
    {
     "data": {
      "text/plain": [
       "(0.0065323843762933875, 0.20423433248344025)"
      ]
     },
     "execution_count": 66,
     "metadata": {},
     "output_type": "execute_result"
    }
   ],
   "source": [
    "events_recs_for_binary_metrics_at100 = process_events_recs_for_binary_metrics(events_train,\n",
    "                                                                        events_test, \n",
    "                                                                        als_recommendations, \n",
    "                                                                        top_k=100)\n",
    "\n",
    "compute_cls_metrics(events_recs_for_binary_metrics_at100)"
   ]
  },
  {
   "cell_type": "markdown",
   "id": "f78475fc-bee1-48f4-be55-329db8ecd326",
   "metadata": {},
   "source": [
    "# === Двухстадийный подход: метрики"
   ]
  },
  {
   "cell_type": "code",
   "execution_count": null,
   "id": "2a4cf639-1afa-4e89-8ba5-eee48a1bd0e1",
   "metadata": {},
   "outputs": [],
   "source": []
  },
  {
   "cell_type": "code",
   "execution_count": null,
   "id": "48e4d676-ede1-4725-8e31-457ebc0452da",
   "metadata": {},
   "outputs": [],
   "source": []
  },
  {
   "cell_type": "code",
   "execution_count": null,
   "id": "d99db2ab-231d-4cf8-8221-5e00e9e6e4c0",
   "metadata": {},
   "outputs": [],
   "source": []
  },
  {
   "cell_type": "markdown",
   "id": "4fbae6b6-b1e2-4bbf-b1ad-227f2916917f",
   "metadata": {},
   "source": [
    "# === Двухстадийный подход: модель"
   ]
  },
  {
   "cell_type": "code",
   "execution_count": 12,
   "id": "2ef764d6-f2cc-4e72-bd7f-81a69dd7380d",
   "metadata": {},
   "outputs": [],
   "source": [
    "split_date_for_labels = pd.to_datetime('2017-09-15').date()\n",
    "split_date_for_labels_idx = events_test[\"started_at\"] < split_date_for_labels\n",
    "\n",
    "events_labels = events_test[split_date_for_labels_idx].copy()\n",
    "events_test_2 = events_test[~split_date_for_labels_idx].copy()"
   ]
  },
  {
   "cell_type": "code",
   "execution_count": 13,
   "id": "56db9c2a",
   "metadata": {},
   "outputs": [],
   "source": [
    "als_recommendations = pd.read_parquet(\"candidates/training/als_recommendations.parquet\")\n",
    "content_recommendations = pd.read_parquet(\"candidates/training/content_recommendations.parquet\")"
   ]
  },
  {
   "cell_type": "code",
   "execution_count": 14,
   "id": "c2714b2f",
   "metadata": {},
   "outputs": [],
   "source": [
    "candidates = pd.merge(\n",
    "    als_recommendations[[\"user_id\", \"item_id\", \"score\"]].rename(columns={\"score\": \"als_score\"}),\n",
    "    content_recommendations[[\"user_id\", \"item_id\", \"score\"]].rename(columns={\"score\": \"cnt_score\"}),\n",
    "    on=['user_id', 'item_id'],\n",
    "    how=\"outer\")"
   ]
  },
  {
   "cell_type": "code",
   "execution_count": 15,
   "id": "9ae00f13",
   "metadata": {},
   "outputs": [
    {
     "data": {
      "text/html": [
       "<div>\n",
       "<style scoped>\n",
       "    .dataframe tbody tr th:only-of-type {\n",
       "        vertical-align: middle;\n",
       "    }\n",
       "\n",
       "    .dataframe tbody tr th {\n",
       "        vertical-align: top;\n",
       "    }\n",
       "\n",
       "    .dataframe thead th {\n",
       "        text-align: right;\n",
       "    }\n",
       "</style>\n",
       "<table border=\"1\" class=\"dataframe\">\n",
       "  <thead>\n",
       "    <tr style=\"text-align: right;\">\n",
       "      <th></th>\n",
       "      <th>user_id</th>\n",
       "      <th>item_id</th>\n",
       "      <th>als_score</th>\n",
       "      <th>cnt_score</th>\n",
       "    </tr>\n",
       "  </thead>\n",
       "  <tbody>\n",
       "    <tr>\n",
       "      <th>0</th>\n",
       "      <td>1000000</td>\n",
       "      <td>3</td>\n",
       "      <td>0.972557</td>\n",
       "      <td>0.920225</td>\n",
       "    </tr>\n",
       "    <tr>\n",
       "      <th>1</th>\n",
       "      <td>1000000</td>\n",
       "      <td>15881</td>\n",
       "      <td>0.890201</td>\n",
       "      <td>0.905740</td>\n",
       "    </tr>\n",
       "    <tr>\n",
       "      <th>2</th>\n",
       "      <td>1000000</td>\n",
       "      <td>5</td>\n",
       "      <td>0.865850</td>\n",
       "      <td>0.918026</td>\n",
       "    </tr>\n",
       "    <tr>\n",
       "      <th>3</th>\n",
       "      <td>1000000</td>\n",
       "      <td>6</td>\n",
       "      <td>0.834282</td>\n",
       "      <td>0.916345</td>\n",
       "    </tr>\n",
       "    <tr>\n",
       "      <th>4</th>\n",
       "      <td>1000000</td>\n",
       "      <td>2</td>\n",
       "      <td>0.792929</td>\n",
       "      <td>0.925806</td>\n",
       "    </tr>\n",
       "  </tbody>\n",
       "</table>\n",
       "</div>"
      ],
      "text/plain": [
       "   user_id  item_id  als_score  cnt_score\n",
       "0  1000000        3   0.972557   0.920225\n",
       "1  1000000    15881   0.890201   0.905740\n",
       "2  1000000        5   0.865850   0.918026\n",
       "3  1000000        6   0.834282   0.916345\n",
       "4  1000000        2   0.792929   0.925806"
      ]
     },
     "execution_count": 15,
     "metadata": {},
     "output_type": "execute_result"
    }
   ],
   "source": [
    "candidates.head()"
   ]
  },
  {
   "cell_type": "code",
   "execution_count": 16,
   "id": "64ddfe2d",
   "metadata": {},
   "outputs": [],
   "source": [
    "events_labels[\"target\"] = 1\n",
    "candidates = candidates.merge(events_labels[[\"user_id\", \"item_id\", \"target\"]], on=['user_id', 'item_id'], how='left')"
   ]
  },
  {
   "cell_type": "code",
   "execution_count": 17,
   "id": "ba3d4ca2",
   "metadata": {},
   "outputs": [
    {
     "data": {
      "text/html": [
       "<div>\n",
       "<style scoped>\n",
       "    .dataframe tbody tr th:only-of-type {\n",
       "        vertical-align: middle;\n",
       "    }\n",
       "\n",
       "    .dataframe tbody tr th {\n",
       "        vertical-align: top;\n",
       "    }\n",
       "\n",
       "    .dataframe thead th {\n",
       "        text-align: right;\n",
       "    }\n",
       "</style>\n",
       "<table border=\"1\" class=\"dataframe\">\n",
       "  <thead>\n",
       "    <tr style=\"text-align: right;\">\n",
       "      <th></th>\n",
       "      <th>user_id</th>\n",
       "      <th>item_id</th>\n",
       "      <th>started_at</th>\n",
       "      <th>read_at</th>\n",
       "      <th>is_read</th>\n",
       "      <th>rating</th>\n",
       "      <th>is_reviewed</th>\n",
       "      <th>started_at_month</th>\n",
       "      <th>user_id_enc</th>\n",
       "      <th>item_id_enc</th>\n",
       "      <th>target</th>\n",
       "    </tr>\n",
       "  </thead>\n",
       "  <tbody>\n",
       "    <tr>\n",
       "      <th>288</th>\n",
       "      <td>1000006</td>\n",
       "      <td>29868610</td>\n",
       "      <td>2017-08-30</td>\n",
       "      <td>2017-09-16</td>\n",
       "      <td>True</td>\n",
       "      <td>4</td>\n",
       "      <td>False</td>\n",
       "      <td>2017-08-01</td>\n",
       "      <td>6</td>\n",
       "      <td>42017</td>\n",
       "      <td>1</td>\n",
       "    </tr>\n",
       "    <tr>\n",
       "      <th>291</th>\n",
       "      <td>1000006</td>\n",
       "      <td>7445</td>\n",
       "      <td>2017-08-26</td>\n",
       "      <td>2017-08-30</td>\n",
       "      <td>True</td>\n",
       "      <td>4</td>\n",
       "      <td>False</td>\n",
       "      <td>2017-08-01</td>\n",
       "      <td>6</td>\n",
       "      <td>868</td>\n",
       "      <td>1</td>\n",
       "    </tr>\n",
       "    <tr>\n",
       "      <th>296</th>\n",
       "      <td>1000006</td>\n",
       "      <td>18812405</td>\n",
       "      <td>2017-08-05</td>\n",
       "      <td>2017-08-19</td>\n",
       "      <td>True</td>\n",
       "      <td>3</td>\n",
       "      <td>False</td>\n",
       "      <td>2017-08-01</td>\n",
       "      <td>6</td>\n",
       "      <td>37138</td>\n",
       "      <td>1</td>\n",
       "    </tr>\n",
       "    <tr>\n",
       "      <th>302</th>\n",
       "      <td>1000007</td>\n",
       "      <td>168642</td>\n",
       "      <td>2017-09-05</td>\n",
       "      <td>2017-09-17</td>\n",
       "      <td>True</td>\n",
       "      <td>5</td>\n",
       "      <td>True</td>\n",
       "      <td>2017-09-01</td>\n",
       "      <td>7</td>\n",
       "      <td>9074</td>\n",
       "      <td>1</td>\n",
       "    </tr>\n",
       "    <tr>\n",
       "      <th>303</th>\n",
       "      <td>1000007</td>\n",
       "      <td>28257707</td>\n",
       "      <td>2017-08-16</td>\n",
       "      <td>2017-09-06</td>\n",
       "      <td>True</td>\n",
       "      <td>4</td>\n",
       "      <td>True</td>\n",
       "      <td>2017-08-01</td>\n",
       "      <td>7</td>\n",
       "      <td>41610</td>\n",
       "      <td>1</td>\n",
       "    </tr>\n",
       "    <tr>\n",
       "      <th>...</th>\n",
       "      <td>...</td>\n",
       "      <td>...</td>\n",
       "      <td>...</td>\n",
       "      <td>...</td>\n",
       "      <td>...</td>\n",
       "      <td>...</td>\n",
       "      <td>...</td>\n",
       "      <td>...</td>\n",
       "      <td>...</td>\n",
       "      <td>...</td>\n",
       "      <td>...</td>\n",
       "    </tr>\n",
       "    <tr>\n",
       "      <th>11750633</th>\n",
       "      <td>1430578</td>\n",
       "      <td>216378</td>\n",
       "      <td>2017-08-27</td>\n",
       "      <td>2017-08-28</td>\n",
       "      <td>True</td>\n",
       "      <td>4</td>\n",
       "      <td>False</td>\n",
       "      <td>2017-08-01</td>\n",
       "      <td>430578</td>\n",
       "      <td>10066</td>\n",
       "      <td>1</td>\n",
       "    </tr>\n",
       "    <tr>\n",
       "      <th>11750634</th>\n",
       "      <td>1430578</td>\n",
       "      <td>6723348</td>\n",
       "      <td>2017-08-02</td>\n",
       "      <td>2017-08-03</td>\n",
       "      <td>True</td>\n",
       "      <td>4</td>\n",
       "      <td>False</td>\n",
       "      <td>2017-08-01</td>\n",
       "      <td>430578</td>\n",
       "      <td>24681</td>\n",
       "      <td>1</td>\n",
       "    </tr>\n",
       "    <tr>\n",
       "      <th>11750800</th>\n",
       "      <td>1430579</td>\n",
       "      <td>27272506</td>\n",
       "      <td>2017-09-03</td>\n",
       "      <td>2017-10-07</td>\n",
       "      <td>True</td>\n",
       "      <td>3</td>\n",
       "      <td>True</td>\n",
       "      <td>2017-09-01</td>\n",
       "      <td>430579</td>\n",
       "      <td>41386</td>\n",
       "      <td>1</td>\n",
       "    </tr>\n",
       "    <tr>\n",
       "      <th>11751080</th>\n",
       "      <td>1430584</td>\n",
       "      <td>23395680</td>\n",
       "      <td>2017-08-09</td>\n",
       "      <td>2017-08-15</td>\n",
       "      <td>True</td>\n",
       "      <td>4</td>\n",
       "      <td>True</td>\n",
       "      <td>2017-08-01</td>\n",
       "      <td>430584</td>\n",
       "      <td>39645</td>\n",
       "      <td>1</td>\n",
       "    </tr>\n",
       "    <tr>\n",
       "      <th>11751084</th>\n",
       "      <td>1430584</td>\n",
       "      <td>18692431</td>\n",
       "      <td>2017-08-02</td>\n",
       "      <td>2017-08-09</td>\n",
       "      <td>True</td>\n",
       "      <td>3</td>\n",
       "      <td>True</td>\n",
       "      <td>2017-08-01</td>\n",
       "      <td>430584</td>\n",
       "      <td>36924</td>\n",
       "      <td>1</td>\n",
       "    </tr>\n",
       "  </tbody>\n",
       "</table>\n",
       "<p>253765 rows × 11 columns</p>\n",
       "</div>"
      ],
      "text/plain": [
       "          user_id   item_id  started_at     read_at  is_read  rating  \\\n",
       "288       1000006  29868610  2017-08-30  2017-09-16     True       4   \n",
       "291       1000006      7445  2017-08-26  2017-08-30     True       4   \n",
       "296       1000006  18812405  2017-08-05  2017-08-19     True       3   \n",
       "302       1000007    168642  2017-09-05  2017-09-17     True       5   \n",
       "303       1000007  28257707  2017-08-16  2017-09-06     True       4   \n",
       "...           ...       ...         ...         ...      ...     ...   \n",
       "11750633  1430578    216378  2017-08-27  2017-08-28     True       4   \n",
       "11750634  1430578   6723348  2017-08-02  2017-08-03     True       4   \n",
       "11750800  1430579  27272506  2017-09-03  2017-10-07     True       3   \n",
       "11751080  1430584  23395680  2017-08-09  2017-08-15     True       4   \n",
       "11751084  1430584  18692431  2017-08-02  2017-08-09     True       3   \n",
       "\n",
       "          is_reviewed started_at_month  user_id_enc  item_id_enc  target  \n",
       "288             False       2017-08-01            6        42017       1  \n",
       "291             False       2017-08-01            6          868       1  \n",
       "296             False       2017-08-01            6        37138       1  \n",
       "302              True       2017-09-01            7         9074       1  \n",
       "303              True       2017-08-01            7        41610       1  \n",
       "...               ...              ...          ...          ...     ...  \n",
       "11750633        False       2017-08-01       430578        10066       1  \n",
       "11750634        False       2017-08-01       430578        24681       1  \n",
       "11750800         True       2017-09-01       430579        41386       1  \n",
       "11751080         True       2017-08-01       430584        39645       1  \n",
       "11751084         True       2017-08-01       430584        36924       1  \n",
       "\n",
       "[253765 rows x 11 columns]"
      ]
     },
     "execution_count": 17,
     "metadata": {},
     "output_type": "execute_result"
    }
   ],
   "source": [
    "events_labels"
   ]
  },
  {
   "cell_type": "code",
   "execution_count": 18,
   "id": "13de187d",
   "metadata": {},
   "outputs": [],
   "source": [
    "candidates[\"target\"] = candidates[\"target\"].fillna(0).astype(\"int\")"
   ]
  },
  {
   "cell_type": "code",
   "execution_count": 19,
   "id": "3f8c767c",
   "metadata": {},
   "outputs": [
    {
     "data": {
      "text/html": [
       "<div>\n",
       "<style scoped>\n",
       "    .dataframe tbody tr th:only-of-type {\n",
       "        vertical-align: middle;\n",
       "    }\n",
       "\n",
       "    .dataframe tbody tr th {\n",
       "        vertical-align: top;\n",
       "    }\n",
       "\n",
       "    .dataframe thead th {\n",
       "        text-align: right;\n",
       "    }\n",
       "</style>\n",
       "<table border=\"1\" class=\"dataframe\">\n",
       "  <thead>\n",
       "    <tr style=\"text-align: right;\">\n",
       "      <th></th>\n",
       "      <th>user_id</th>\n",
       "      <th>item_id</th>\n",
       "      <th>als_score</th>\n",
       "      <th>cnt_score</th>\n",
       "      <th>target</th>\n",
       "    </tr>\n",
       "  </thead>\n",
       "  <tbody>\n",
       "    <tr>\n",
       "      <th>0</th>\n",
       "      <td>1000000</td>\n",
       "      <td>3</td>\n",
       "      <td>0.972557</td>\n",
       "      <td>0.920225</td>\n",
       "      <td>0</td>\n",
       "    </tr>\n",
       "    <tr>\n",
       "      <th>1</th>\n",
       "      <td>1000000</td>\n",
       "      <td>15881</td>\n",
       "      <td>0.890201</td>\n",
       "      <td>0.905740</td>\n",
       "      <td>0</td>\n",
       "    </tr>\n",
       "    <tr>\n",
       "      <th>2</th>\n",
       "      <td>1000000</td>\n",
       "      <td>5</td>\n",
       "      <td>0.865850</td>\n",
       "      <td>0.918026</td>\n",
       "      <td>0</td>\n",
       "    </tr>\n",
       "    <tr>\n",
       "      <th>3</th>\n",
       "      <td>1000000</td>\n",
       "      <td>6</td>\n",
       "      <td>0.834282</td>\n",
       "      <td>0.916345</td>\n",
       "      <td>0</td>\n",
       "    </tr>\n",
       "    <tr>\n",
       "      <th>4</th>\n",
       "      <td>1000000</td>\n",
       "      <td>2</td>\n",
       "      <td>0.792929</td>\n",
       "      <td>0.925806</td>\n",
       "      <td>0</td>\n",
       "    </tr>\n",
       "    <tr>\n",
       "      <th>...</th>\n",
       "      <td>...</td>\n",
       "      <td>...</td>\n",
       "      <td>...</td>\n",
       "      <td>...</td>\n",
       "      <td>...</td>\n",
       "    </tr>\n",
       "    <tr>\n",
       "      <th>82993089</th>\n",
       "      <td>1430584</td>\n",
       "      <td>31327371</td>\n",
       "      <td>NaN</td>\n",
       "      <td>0.786363</td>\n",
       "      <td>0</td>\n",
       "    </tr>\n",
       "    <tr>\n",
       "      <th>82993090</th>\n",
       "      <td>1430584</td>\n",
       "      <td>32841355</td>\n",
       "      <td>NaN</td>\n",
       "      <td>0.784905</td>\n",
       "      <td>0</td>\n",
       "    </tr>\n",
       "    <tr>\n",
       "      <th>82993091</th>\n",
       "      <td>1430584</td>\n",
       "      <td>33828743</td>\n",
       "      <td>NaN</td>\n",
       "      <td>0.784706</td>\n",
       "      <td>0</td>\n",
       "    </tr>\n",
       "    <tr>\n",
       "      <th>82993092</th>\n",
       "      <td>1430584</td>\n",
       "      <td>34037113</td>\n",
       "      <td>NaN</td>\n",
       "      <td>0.784556</td>\n",
       "      <td>0</td>\n",
       "    </tr>\n",
       "    <tr>\n",
       "      <th>82993093</th>\n",
       "      <td>1430584</td>\n",
       "      <td>34964938</td>\n",
       "      <td>NaN</td>\n",
       "      <td>0.783977</td>\n",
       "      <td>0</td>\n",
       "    </tr>\n",
       "  </tbody>\n",
       "</table>\n",
       "<p>82993094 rows × 5 columns</p>\n",
       "</div>"
      ],
      "text/plain": [
       "          user_id   item_id  als_score  cnt_score  target\n",
       "0         1000000         3   0.972557   0.920225       0\n",
       "1         1000000     15881   0.890201   0.905740       0\n",
       "2         1000000         5   0.865850   0.918026       0\n",
       "3         1000000         6   0.834282   0.916345       0\n",
       "4         1000000         2   0.792929   0.925806       0\n",
       "...           ...       ...        ...        ...     ...\n",
       "82993089  1430584  31327371        NaN   0.786363       0\n",
       "82993090  1430584  32841355        NaN   0.784905       0\n",
       "82993091  1430584  33828743        NaN   0.784706       0\n",
       "82993092  1430584  34037113        NaN   0.784556       0\n",
       "82993093  1430584  34964938        NaN   0.783977       0\n",
       "\n",
       "[82993094 rows x 5 columns]"
      ]
     },
     "execution_count": 19,
     "metadata": {},
     "output_type": "execute_result"
    }
   ],
   "source": [
    "candidates"
   ]
  },
  {
   "cell_type": "code",
   "execution_count": 20,
   "id": "d26cb489",
   "metadata": {},
   "outputs": [
    {
     "data": {
      "text/plain": [
       "430585"
      ]
     },
     "execution_count": 20,
     "metadata": {},
     "output_type": "execute_result"
    }
   ],
   "source": [
    "candidates['user_id'].nunique()"
   ]
  },
  {
   "cell_type": "code",
   "execution_count": 21,
   "id": "47a8066b",
   "metadata": {},
   "outputs": [],
   "source": [
    "candidates_to_sample = candidates.groupby(\"user_id\").filter(lambda x: x[\"target\"].sum() > 0)"
   ]
  },
  {
   "cell_type": "code",
   "execution_count": 22,
   "id": "c7c6e014",
   "metadata": {},
   "outputs": [
    {
     "data": {
      "text/plain": [
       "38804"
      ]
     },
     "execution_count": 22,
     "metadata": {},
     "output_type": "execute_result"
    }
   ],
   "source": [
    "candidates_to_sample['user_id'].nunique()"
   ]
  },
  {
   "cell_type": "code",
   "execution_count": 23,
   "id": "eb107513",
   "metadata": {},
   "outputs": [],
   "source": [
    "negatives_per_user = 4\n",
    "candidates_for_train = pd.concat([\n",
    "    candidates_to_sample.query('target == 1'),\n",
    "    candidates_to_sample.query(\"target == 0\") \\\n",
    "        .groupby(\"user_id\") \\\n",
    "        .apply(lambda x: x.sample(negatives_per_user, random_state=0))\n",
    "    ]) "
   ]
  },
  {
   "cell_type": "code",
   "execution_count": 24,
   "id": "36e4b8fc",
   "metadata": {},
   "outputs": [
    {
     "data": {
      "text/html": [
       "<div>\n",
       "<style scoped>\n",
       "    .dataframe tbody tr th:only-of-type {\n",
       "        vertical-align: middle;\n",
       "    }\n",
       "\n",
       "    .dataframe tbody tr th {\n",
       "        vertical-align: top;\n",
       "    }\n",
       "\n",
       "    .dataframe thead th {\n",
       "        text-align: right;\n",
       "    }\n",
       "</style>\n",
       "<table border=\"1\" class=\"dataframe\">\n",
       "  <thead>\n",
       "    <tr style=\"text-align: right;\">\n",
       "      <th></th>\n",
       "      <th>user_id</th>\n",
       "      <th>item_id</th>\n",
       "      <th>als_score</th>\n",
       "      <th>cnt_score</th>\n",
       "      <th>target</th>\n",
       "    </tr>\n",
       "  </thead>\n",
       "  <tbody>\n",
       "    <tr>\n",
       "      <th>615</th>\n",
       "      <td>1000006</td>\n",
       "      <td>29868610</td>\n",
       "      <td>0.286715</td>\n",
       "      <td>NaN</td>\n",
       "      <td>1</td>\n",
       "    </tr>\n",
       "    <tr>\n",
       "      <th>632</th>\n",
       "      <td>1000006</td>\n",
       "      <td>7445</td>\n",
       "      <td>0.230529</td>\n",
       "      <td>NaN</td>\n",
       "      <td>1</td>\n",
       "    </tr>\n",
       "    <tr>\n",
       "      <th>649</th>\n",
       "      <td>1000006</td>\n",
       "      <td>18812405</td>\n",
       "      <td>0.178382</td>\n",
       "      <td>NaN</td>\n",
       "      <td>1</td>\n",
       "    </tr>\n",
       "    <tr>\n",
       "      <th>1998</th>\n",
       "      <td>1000019</td>\n",
       "      <td>37415</td>\n",
       "      <td>0.043595</td>\n",
       "      <td>NaN</td>\n",
       "      <td>1</td>\n",
       "    </tr>\n",
       "    <tr>\n",
       "      <th>2302</th>\n",
       "      <td>1000023</td>\n",
       "      <td>7260188</td>\n",
       "      <td>0.598791</td>\n",
       "      <td>NaN</td>\n",
       "      <td>1</td>\n",
       "    </tr>\n",
       "    <tr>\n",
       "      <th>...</th>\n",
       "      <td>...</td>\n",
       "      <td>...</td>\n",
       "      <td>...</td>\n",
       "      <td>...</td>\n",
       "      <td>...</td>\n",
       "    </tr>\n",
       "    <tr>\n",
       "      <th>(1430579, 82992597)</th>\n",
       "      <td>1430579</td>\n",
       "      <td>15698462</td>\n",
       "      <td>NaN</td>\n",
       "      <td>0.900922</td>\n",
       "      <td>0</td>\n",
       "    </tr>\n",
       "    <tr>\n",
       "      <th>(1430584, 43058418)</th>\n",
       "      <td>1430584</td>\n",
       "      <td>18774964</td>\n",
       "      <td>0.222126</td>\n",
       "      <td>NaN</td>\n",
       "      <td>0</td>\n",
       "    </tr>\n",
       "    <tr>\n",
       "      <th>(1430584, 82993064)</th>\n",
       "      <td>1430584</td>\n",
       "      <td>8393104</td>\n",
       "      <td>NaN</td>\n",
       "      <td>0.795215</td>\n",
       "      <td>0</td>\n",
       "    </tr>\n",
       "    <tr>\n",
       "      <th>(1430584, 82993001)</th>\n",
       "      <td>1430584</td>\n",
       "      <td>24929</td>\n",
       "      <td>NaN</td>\n",
       "      <td>0.847833</td>\n",
       "      <td>0</td>\n",
       "    </tr>\n",
       "    <tr>\n",
       "      <th>(1430584, 43058493)</th>\n",
       "      <td>1430584</td>\n",
       "      <td>5129</td>\n",
       "      <td>0.094607</td>\n",
       "      <td>NaN</td>\n",
       "      <td>0</td>\n",
       "    </tr>\n",
       "  </tbody>\n",
       "</table>\n",
       "<p>213708 rows × 5 columns</p>\n",
       "</div>"
      ],
      "text/plain": [
       "                     user_id   item_id  als_score  cnt_score  target\n",
       "615                  1000006  29868610   0.286715        NaN       1\n",
       "632                  1000006      7445   0.230529        NaN       1\n",
       "649                  1000006  18812405   0.178382        NaN       1\n",
       "1998                 1000019     37415   0.043595        NaN       1\n",
       "2302                 1000023   7260188   0.598791        NaN       1\n",
       "...                      ...       ...        ...        ...     ...\n",
       "(1430579, 82992597)  1430579  15698462        NaN   0.900922       0\n",
       "(1430584, 43058418)  1430584  18774964   0.222126        NaN       0\n",
       "(1430584, 82993064)  1430584   8393104        NaN   0.795215       0\n",
       "(1430584, 82993001)  1430584     24929        NaN   0.847833       0\n",
       "(1430584, 43058493)  1430584      5129   0.094607        NaN       0\n",
       "\n",
       "[213708 rows x 5 columns]"
      ]
     },
     "execution_count": 24,
     "metadata": {},
     "output_type": "execute_result"
    }
   ],
   "source": [
    "candidates_for_train"
   ]
  },
  {
   "cell_type": "code",
   "execution_count": 25,
   "id": "d723025d",
   "metadata": {},
   "outputs": [],
   "source": [
    "del als_recommendations\n",
    "del content_recommendations\n",
    "del candidates\n",
    "del candidates_to_sample"
   ]
  },
  {
   "cell_type": "code",
   "execution_count": 26,
   "id": "68a299d4",
   "metadata": {},
   "outputs": [
    {
     "name": "stdout",
     "output_type": "stream",
     "text": [
      "0:\tlearn: 0.6526057\ttotal: 113ms\tremaining: 1m 53s\n",
      "100:\tlearn: 0.5118959\ttotal: 2.57s\tremaining: 22.9s\n",
      "200:\tlearn: 0.5111710\ttotal: 4.52s\tremaining: 18s\n",
      "300:\tlearn: 0.5105208\ttotal: 6.55s\tremaining: 15.2s\n",
      "400:\tlearn: 0.5100174\ttotal: 8.54s\tremaining: 12.8s\n",
      "500:\tlearn: 0.5095747\ttotal: 10.6s\tremaining: 10.5s\n",
      "600:\tlearn: 0.5091600\ttotal: 12.5s\tremaining: 8.32s\n",
      "700:\tlearn: 0.5087803\ttotal: 14.5s\tremaining: 6.2s\n",
      "800:\tlearn: 0.5084220\ttotal: 16.5s\tremaining: 4.1s\n",
      "900:\tlearn: 0.5080930\ttotal: 18.6s\tremaining: 2.05s\n",
      "999:\tlearn: 0.5078081\ttotal: 21s\tremaining: 0us\n"
     ]
    },
    {
     "data": {
      "text/plain": [
       "<catboost.core.CatBoostClassifier at 0x7fc5231b8700>"
      ]
     },
     "execution_count": 26,
     "metadata": {},
     "output_type": "execute_result"
    }
   ],
   "source": [
    "from catboost import CatBoostClassifier, Pool\n",
    "\n",
    "features = ['als_score', 'cnt_score']\n",
    "target = 'target'\n",
    "\n",
    "train_data = Pool(\n",
    "    data=candidates_for_train[features],\n",
    "    label=candidates_for_train[target]\n",
    ")\n",
    "\n",
    "cb_model = CatBoostClassifier(\n",
    "    iterations=1000,\n",
    "    learning_rate=0.1,\n",
    "    depth=6,\n",
    "    loss_function='Logloss',\n",
    "    verbose=100,\n",
    "    random_seed=0\n",
    ")\n",
    "\n",
    "cb_model.fit(train_data)"
   ]
  },
  {
   "cell_type": "code",
   "execution_count": 27,
   "id": "3946d787",
   "metadata": {},
   "outputs": [
    {
     "name": "stdout",
     "output_type": "stream",
     "text": [
      "23830721\n"
     ]
    }
   ],
   "source": [
    "als_recommendations_2 = pd.read_parquet(\"candidates/inference/als_recommendations.parquet\")\n",
    "content_recommendations_2 = pd.read_parquet(\"candidates/inference/content_recommendations.parquet\")\n",
    "\n",
    "candidates_to_rank = pd.merge(als_recommendations_2.rename(columns={\"score\": \"als_score\"}),\n",
    "                              content_recommendations_2.rename(columns={\"score\": \"cnt_score\"}),\n",
    "                              on=['user_id', 'item_id'],\n",
    "                              how='outer')\n",
    "\n",
    "candidates_to_rank = candidates_to_rank[candidates_to_rank[\"user_id\"].isin(events_test[\"user_id\"].drop_duplicates())]\n",
    "print(len(candidates_to_rank)) "
   ]
  },
  {
   "cell_type": "code",
   "execution_count": 22,
   "id": "239f68be",
   "metadata": {},
   "outputs": [],
   "source": [
    "inference_data = Pool(data=candidates_to_rank[features])\n",
    "predictions = cb_model.predict_proba(inference_data)"
   ]
  },
  {
   "cell_type": "code",
   "execution_count": 23,
   "id": "a967ab60",
   "metadata": {},
   "outputs": [],
   "source": [
    "candidates_to_rank[\"cb_score\"] = predictions[:, 1]\n",
    "candidates_to_rank = candidates_to_rank.sort_values([\"user_id\", \"cb_score\"], ascending=[True, False])\n",
    "\n",
    "candidates_to_rank['rank'] = candidates_to_rank.groupby('user_id').cumcount() + 1\n",
    "max_recommendations_per_user = 100\n",
    "\n",
    "final_recommendations = candidates_to_rank.query('rank <= 100').copy().reset_index(drop=True)"
   ]
  },
  {
   "cell_type": "code",
   "execution_count": 27,
   "id": "5e13c162",
   "metadata": {},
   "outputs": [
    {
     "name": "stdout",
     "output_type": "stream",
     "text": [
      "Common users: 75194\n"
     ]
    }
   ],
   "source": [
    "events_inference = pd.concat([events_train, events_labels])\n",
    "\n",
    "cb_events_recs_for_binary_metrics_5 = process_events_recs_for_binary_metrics(\n",
    "    events_inference,\n",
    "    events_test_2,\n",
    "    final_recommendations.rename(columns={\"cb_score\": \"score\"}), \n",
    "    top_k=5)"
   ]
  },
  {
   "cell_type": "code",
   "execution_count": 28,
   "id": "3249b3c1",
   "metadata": {},
   "outputs": [
    {
     "name": "stdout",
     "output_type": "stream",
     "text": [
      "precision: 0.006, recall: 0.015\n"
     ]
    }
   ],
   "source": [
    "cb_precision_5, cb_recall_5 = compute_cls_metrics(cb_events_recs_for_binary_metrics_5)\n",
    "\n",
    "print(f\"precision: {cb_precision_5:.3f}, recall: {cb_recall_5:.3f}\") "
   ]
  },
  {
   "cell_type": "markdown",
   "id": "29b6ebd5-38a3-4f8e-8941-2f91fa70ca4e",
   "metadata": {},
   "source": [
    "# === Двухстадийный подход: построение признаков"
   ]
  },
  {
   "cell_type": "code",
   "execution_count": 28,
   "id": "8788cba9-0396-46a2-b2af-1ecbd65b944e",
   "metadata": {},
   "outputs": [],
   "source": [
    "items['age'] = 2018-items['publication_year']\n",
    "invalid_age_idx = items['age']<0\n",
    "items.loc[invalid_age_idx, 'age'] = np.nan \n",
    "items['age'] = items['age'].astype('float')\n",
    "\n",
    "candidates_for_train = candidates_for_train.merge(items[['item_id', 'age']], on=['item_id'], how='left').copy()\n",
    "candidates_to_rank = candidates_to_rank.merge(items[['item_id', 'age']], on=['item_id'], how='left').copy()"
   ]
  },
  {
   "cell_type": "code",
   "execution_count": 29,
   "id": "0d619de7",
   "metadata": {},
   "outputs": [
    {
     "data": {
      "text/plain": [
       "7.0"
      ]
     },
     "execution_count": 29,
     "metadata": {},
     "output_type": "execute_result"
    }
   ],
   "source": [
    "candidates_to_rank['age'].median()"
   ]
  },
  {
   "cell_type": "code",
   "execution_count": 30,
   "id": "de0e6d15",
   "metadata": {},
   "outputs": [],
   "source": [
    "def get_user_features(events):\n",
    "    \"\"\" считает пользовательские признаки \"\"\"\n",
    "    \n",
    "    user_features = events.groupby(\"user_id\").agg(\n",
    "        reading_years=(\"started_at\", lambda x: (x.max()-x.min()).days/365.25),\n",
    "        books_read=('item_id', 'nunique'),\n",
    "        rating_avg=(\"rating\", \"mean\"),\n",
    "        rating_std=(\"rating\", \"std\"))\n",
    "    \n",
    "    user_features[\"books_per_year\"] = user_features[\"books_read\"] / user_features[\"reading_years\"]\n",
    "    \n",
    "    return user_features\n",
    "    \n",
    "user_features_for_train = get_user_features(events_train)\n",
    "candidates_for_train = candidates_for_train.merge(user_features_for_train, on=\"user_id\", how=\"left\")\n",
    "  \n",
    "# оставим только тех пользователей, что есть в тесте, для экономии ресурсов\n",
    "events_inference = pd.concat([events_train, events_labels])\n",
    "events_inference = events_inference[events_inference[\"user_id\"].isin(events_test[\"user_id\"].drop_duplicates())]\n",
    "\n",
    "user_features_for_ranking = get_user_features(events_inference)\n",
    "candidates_to_rank = candidates_to_rank.merge(user_features_for_ranking, on=\"user_id\", how=\"left\")\n"
   ]
  },
  {
   "cell_type": "code",
   "execution_count": 31,
   "id": "a2ed0f9b",
   "metadata": {},
   "outputs": [
    {
     "data": {
      "text/plain": [
       "32.0"
      ]
     },
     "execution_count": 31,
     "metadata": {},
     "output_type": "execute_result"
    }
   ],
   "source": [
    "candidates_for_train['books_read'].median()"
   ]
  },
  {
   "cell_type": "code",
   "execution_count": 33,
   "id": "64a7c6b0",
   "metadata": {},
   "outputs": [],
   "source": [
    "genres_top_k = 10\n",
    "genres_top_idx = genres.sort_values(\"votes\", ascending=False).head(genres_top_k).index\n",
    "genres_others_idx = list(set(genres.index) - set(genres_top_idx))\n",
    "\n",
    "genres_top_columns = [f\"genre_{id}\" for id in genres_top_idx]\n",
    "genres_others_column = \"genre_others\"\n",
    "genre_columns = genres_top_columns + [genres_others_column]\n",
    "\n",
    "item_genres = (\n",
    "    pd.concat([\n",
    "        # топ жанров\n",
    "        pd.DataFrame(all_items_genres_csr[:, genres_top_idx].toarray(), columns=genres_top_columns),\n",
    "        # все остальные жанры\n",
    "        pd.DataFrame(all_items_genres_csr[:, genres_others_idx].sum(axis=1), columns=[genres_others_column])\n",
    "        ],\n",
    "        axis=1)\n",
    "    .reset_index()\n",
    "    .rename(columns={\"index\": \"item_id_enc\"})\n",
    ")\n",
    "\n",
    "items = items.merge(item_genres, on=\"item_id_enc\", how=\"left\")\n",
    "\n",
    "def get_user_genres(events, items, item_genre_columns):\n",
    "    user_genres = (\n",
    "        events\n",
    "        .merge(items[[\"item_id\"] + item_genre_columns], on=\"item_id\", how=\"left\")\n",
    "        .groupby(\"user_id\")[item_genre_columns].mean()\n",
    "    )\n",
    "    return user_genres\n",
    "\n",
    "user_genres_for_train = get_user_genres(events_train, items, genre_columns)\n",
    "candidates_for_train = candidates_for_train.merge(user_genres_for_train, on=\"user_id\", how=\"left\")\n",
    "\n",
    "user_genres_for_ranking = get_user_genres(events_inference, items, genre_columns)\n",
    "candidates_to_rank = candidates_to_rank.merge(user_genres_for_ranking, on=\"user_id\", how=\"left\")\n"
   ]
  },
  {
   "cell_type": "code",
   "execution_count": 32,
   "id": "98863659",
   "metadata": {},
   "outputs": [],
   "source": [
    "del als_recommendations_2\n",
    "del content_recommendations_2"
   ]
  },
  {
   "cell_type": "code",
   "execution_count": 34,
   "id": "05e59424",
   "metadata": {},
   "outputs": [
    {
     "name": "stdout",
     "output_type": "stream",
     "text": [
      "Variable                    Type         Data/Info\n",
      "--------------------------------------------------\n",
      "candidates_for_train        DataFrame            user_id   item_id<...>213708 rows x 22 columns]\n",
      "candidates_to_rank          DataFrame              user_id   item_<...>830721 rows x 21 columns]\n",
      "events                      DataFrame                             <...>1836282 rows x 8 columns]\n",
      "events_inference            DataFrame              user_id   item_<...>488800 rows x 11 columns]\n",
      "events_labels               DataFrame              user_id   item_<...>253765 rows x 11 columns]\n",
      "events_test                 DataFrame              user_id   item_<...>424962 rows x 10 columns]\n",
      "events_test_2               DataFrame              user_id   item_<...>171197 rows x 10 columns]\n",
      "events_train                DataFrame              user_id   item_<...>326124 rows x 10 columns]\n",
      "filtered_events             DataFrame              user_id   item_<...>1751086 rows x 8 columns]\n",
      "genres                      DataFrame                             <...>n\\n[815 rows x 3 columns]\n",
      "item_genres                 DataFrame           item_id_enc  genre<...>[43312 rows x 12 columns]\n",
      "items                       DataFrame            item_id          <...>[43312 rows x 32 columns]\n",
      "user_features_for_ranking   DataFrame             reading_years  b<...>[122599 rows x 5 columns]\n",
      "user_features_for_train     DataFrame             reading_years  b<...>[428220 rows x 5 columns]\n",
      "user_genres_for_ranking     DataFrame             genre_25   genre<...>122599 rows x 11 columns]\n",
      "user_genres_for_train       DataFrame             genre_25   genre<...>428220 rows x 11 columns]\n"
     ]
    }
   ],
   "source": [
    "%whos DataFrame"
   ]
  },
  {
   "cell_type": "code",
   "execution_count": 35,
   "id": "1e3a9036",
   "metadata": {},
   "outputs": [],
   "source": [
    "del events\n",
    "del events_inference\n",
    "del events_labels\n",
    "del events_test\n",
    "del events_test_2\n",
    "del events_train\n",
    "del filtered_events\n",
    "del user_features_for_ranking\n",
    "del user_features_for_train\n",
    "del user_genres_for_ranking\n",
    "del user_genres_for_train"
   ]
  },
  {
   "cell_type": "code",
   "execution_count": 36,
   "id": "4f5c19d0",
   "metadata": {},
   "outputs": [
    {
     "name": "stdout",
     "output_type": "stream",
     "text": [
      "0:\tlearn: 0.6463996\ttotal: 30.4ms\tremaining: 30.4s\n",
      "100:\tlearn: 0.4710013\ttotal: 2.73s\tremaining: 24.3s\n",
      "200:\tlearn: 0.4644069\ttotal: 5.35s\tremaining: 21.3s\n",
      "300:\tlearn: 0.4595792\ttotal: 7.96s\tremaining: 18.5s\n",
      "400:\tlearn: 0.4556840\ttotal: 10.6s\tremaining: 15.8s\n",
      "500:\tlearn: 0.4522164\ttotal: 13.2s\tremaining: 13.1s\n",
      "600:\tlearn: 0.4489011\ttotal: 15.8s\tremaining: 10.5s\n",
      "700:\tlearn: 0.4458227\ttotal: 18.4s\tremaining: 7.85s\n",
      "800:\tlearn: 0.4428398\ttotal: 21.8s\tremaining: 5.41s\n",
      "900:\tlearn: 0.4401834\ttotal: 26.1s\tremaining: 2.87s\n",
      "999:\tlearn: 0.4376329\ttotal: 30s\tremaining: 0us\n"
     ]
    },
    {
     "data": {
      "text/plain": [
       "<catboost.core.CatBoostClassifier at 0x7fc556259270>"
      ]
     },
     "execution_count": 36,
     "metadata": {},
     "output_type": "execute_result"
    }
   ],
   "source": [
    "from catboost import CatBoostClassifier, Pool\n",
    "\n",
    "# задаём имена колонок признаков и таргета\n",
    "features = ['als_score', 'cnt_score', \n",
    "    'age', 'reading_years', 'books_read', \n",
    "    'rating_avg', 'rating_std', \n",
    "    'books_per_year'] + genre_columns\n",
    "target = 'target'\n",
    "\n",
    "# создаём Pool\n",
    "train_data = Pool(\n",
    "    data=candidates_for_train[features], \n",
    "    label=candidates_for_train[target])\n",
    "\n",
    "# инициализируем модель CatBoostClassifier\n",
    "cb_model = CatBoostClassifier(\n",
    "    iterations=1000,\n",
    "    learning_rate=0.1,\n",
    "    depth=6,\n",
    "    loss_function='Logloss',\n",
    "    verbose=100,\n",
    "    random_seed=0,\n",
    ")\n",
    "\n",
    "# тренируем модель\n",
    "cb_model.fit(train_data)"
   ]
  },
  {
   "cell_type": "code",
   "execution_count": 37,
   "id": "c3f939e8",
   "metadata": {},
   "outputs": [],
   "source": [
    "inference_data = Pool(data=candidates_to_rank[features])\n",
    "predictions = cb_model.predict_proba(inference_data)\n",
    "\n",
    "candidates_to_rank[\"cb_score\"] = predictions[:, 1]\n",
    "\n",
    "# для каждого пользователя проставим rank, начиная с 1 — это максимальный cb_score\n",
    "candidates_to_rank = candidates_to_rank.sort_values([\"user_id\", \"cb_score\"], ascending=[True, False])\n",
    "candidates_to_rank['rank'] = candidates_to_rank.groupby('user_id').cumcount() + 1\n",
    "\n",
    "max_recommendations_per_user = 100\n",
    "final_recommendations = candidates_to_rank.query(\"rank <= @max_recommendations_per_user\")"
   ]
  },
  {
   "cell_type": "code",
   "execution_count": 39,
   "id": "866533ec",
   "metadata": {},
   "outputs": [
    {
     "data": {
      "text/plain": [
       "123223"
      ]
     },
     "execution_count": 39,
     "metadata": {},
     "output_type": "execute_result"
    }
   ],
   "source": [
    "final_recommendations['user_id'].nunique()"
   ]
  },
  {
   "cell_type": "code",
   "execution_count": 40,
   "id": "941b3a16",
   "metadata": {},
   "outputs": [],
   "source": [
    "feature_importance = pd.DataFrame(cb_model.get_feature_importance(), \n",
    "    index=features, \n",
    "    columns=[\"fi\"])"
   ]
  },
  {
   "cell_type": "code",
   "execution_count": 41,
   "id": "669c114b",
   "metadata": {},
   "outputs": [
    {
     "data": {
      "text/html": [
       "<div>\n",
       "<style scoped>\n",
       "    .dataframe tbody tr th:only-of-type {\n",
       "        vertical-align: middle;\n",
       "    }\n",
       "\n",
       "    .dataframe tbody tr th {\n",
       "        vertical-align: top;\n",
       "    }\n",
       "\n",
       "    .dataframe thead th {\n",
       "        text-align: right;\n",
       "    }\n",
       "</style>\n",
       "<table border=\"1\" class=\"dataframe\">\n",
       "  <thead>\n",
       "    <tr style=\"text-align: right;\">\n",
       "      <th></th>\n",
       "      <th>fi</th>\n",
       "    </tr>\n",
       "  </thead>\n",
       "  <tbody>\n",
       "    <tr>\n",
       "      <th>als_score</th>\n",
       "      <td>31.810044</td>\n",
       "    </tr>\n",
       "    <tr>\n",
       "      <th>cnt_score</th>\n",
       "      <td>4.123602</td>\n",
       "    </tr>\n",
       "    <tr>\n",
       "      <th>age</th>\n",
       "      <td>21.707668</td>\n",
       "    </tr>\n",
       "    <tr>\n",
       "      <th>reading_years</th>\n",
       "      <td>3.017702</td>\n",
       "    </tr>\n",
       "    <tr>\n",
       "      <th>books_read</th>\n",
       "      <td>8.889603</td>\n",
       "    </tr>\n",
       "    <tr>\n",
       "      <th>rating_avg</th>\n",
       "      <td>1.851159</td>\n",
       "    </tr>\n",
       "    <tr>\n",
       "      <th>rating_std</th>\n",
       "      <td>1.196695</td>\n",
       "    </tr>\n",
       "    <tr>\n",
       "      <th>books_per_year</th>\n",
       "      <td>2.408520</td>\n",
       "    </tr>\n",
       "    <tr>\n",
       "      <th>genre_25</th>\n",
       "      <td>2.570518</td>\n",
       "    </tr>\n",
       "    <tr>\n",
       "      <th>genre_1</th>\n",
       "      <td>2.899258</td>\n",
       "    </tr>\n",
       "    <tr>\n",
       "      <th>genre_38</th>\n",
       "      <td>1.858507</td>\n",
       "    </tr>\n",
       "    <tr>\n",
       "      <th>genre_18</th>\n",
       "      <td>3.603794</td>\n",
       "    </tr>\n",
       "    <tr>\n",
       "      <th>genre_34</th>\n",
       "      <td>2.229790</td>\n",
       "    </tr>\n",
       "    <tr>\n",
       "      <th>genre_5</th>\n",
       "      <td>1.555201</td>\n",
       "    </tr>\n",
       "    <tr>\n",
       "      <th>genre_16</th>\n",
       "      <td>1.679820</td>\n",
       "    </tr>\n",
       "    <tr>\n",
       "      <th>genre_20</th>\n",
       "      <td>1.595956</td>\n",
       "    </tr>\n",
       "    <tr>\n",
       "      <th>genre_24</th>\n",
       "      <td>1.756641</td>\n",
       "    </tr>\n",
       "    <tr>\n",
       "      <th>genre_33</th>\n",
       "      <td>1.856211</td>\n",
       "    </tr>\n",
       "    <tr>\n",
       "      <th>genre_others</th>\n",
       "      <td>3.389311</td>\n",
       "    </tr>\n",
       "  </tbody>\n",
       "</table>\n",
       "</div>"
      ],
      "text/plain": [
       "                       fi\n",
       "als_score       31.810044\n",
       "cnt_score        4.123602\n",
       "age             21.707668\n",
       "reading_years    3.017702\n",
       "books_read       8.889603\n",
       "rating_avg       1.851159\n",
       "rating_std       1.196695\n",
       "books_per_year   2.408520\n",
       "genre_25         2.570518\n",
       "genre_1          2.899258\n",
       "genre_38         1.858507\n",
       "genre_18         3.603794\n",
       "genre_34         2.229790\n",
       "genre_5          1.555201\n",
       "genre_16         1.679820\n",
       "genre_20         1.595956\n",
       "genre_24         1.756641\n",
       "genre_33         1.856211\n",
       "genre_others     3.389311"
      ]
     },
     "execution_count": 41,
     "metadata": {},
     "output_type": "execute_result"
    }
   ],
   "source": [
    "feature_importance"
   ]
  },
  {
   "cell_type": "code",
   "execution_count": null,
   "id": "00243681",
   "metadata": {},
   "outputs": [],
   "source": []
  }
 ],
 "metadata": {
  "kernelspec": {
   "display_name": ".venv_recsys_start",
   "language": "python",
   "name": "python3"
  },
  "language_info": {
   "codemirror_mode": {
    "name": "ipython",
    "version": 3
   },
   "file_extension": ".py",
   "mimetype": "text/x-python",
   "name": "python",
   "nbconvert_exporter": "python",
   "pygments_lexer": "ipython3",
   "version": "3.10.12"
  }
 },
 "nbformat": 4,
 "nbformat_minor": 5
}
