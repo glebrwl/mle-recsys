{
 "cells": [
  {
   "cell_type": "code",
   "execution_count": 2,
   "metadata": {},
   "outputs": [],
   "source": [
    "import warnings\n",
    "warnings.filterwarnings('ignore')\n",
    "\n",
    "import logging\n",
    "\n",
    "import matplotlib.pyplot as plt\n",
    "import numpy as np\n",
    "import pandas as pd\n",
    "\n",
    "%matplotlib inline\n",
    "%config InlineBackend.figure_format = 'png'\n",
    "%config InlineBackend.figure_format = 'retina'"
   ]
  },
  {
   "cell_type": "code",
   "execution_count": 3,
   "metadata": {},
   "outputs": [
    {
     "ename": "KeyboardInterrupt",
     "evalue": "",
     "output_type": "error",
     "traceback": [
      "\u001b[0;31m---------------------------------------------------------------------------\u001b[0m",
      "\u001b[0;31mKeyboardInterrupt\u001b[0m                         Traceback (most recent call last)",
      "Cell \u001b[0;32mIn[3], line 6\u001b[0m\n\u001b[1;32m      2\u001b[0m events \u001b[38;5;241m=\u001b[39m pd\u001b[38;5;241m.\u001b[39mread_parquet(\u001b[38;5;124m\"\u001b[39m\u001b[38;5;124mgoodsread/events.par\u001b[39m\u001b[38;5;124m\"\u001b[39m)\n\u001b[1;32m      4\u001b[0m events\u001b[38;5;241m.\u001b[39mrename(columns\u001b[38;5;241m=\u001b[39m{\u001b[38;5;124m'\u001b[39m\u001b[38;5;124mbook_id\u001b[39m\u001b[38;5;124m'\u001b[39m:\u001b[38;5;124m'\u001b[39m\u001b[38;5;124mitem_id\u001b[39m\u001b[38;5;124m'\u001b[39m}, inplace\u001b[38;5;241m=\u001b[39m\u001b[38;5;28;01mTrue\u001b[39;00m)\n\u001b[0;32m----> 6\u001b[0m user_counts \u001b[38;5;241m=\u001b[39m \u001b[43mevents\u001b[49m\u001b[43m[\u001b[49m\u001b[38;5;124;43m'\u001b[39;49m\u001b[38;5;124;43muser_id\u001b[39;49m\u001b[38;5;124;43m'\u001b[39;49m\u001b[43m]\u001b[49m\u001b[38;5;241;43m.\u001b[39;49m\u001b[43mvalue_counts\u001b[49m\u001b[43m(\u001b[49m\u001b[43m)\u001b[49m\n\u001b[1;32m      7\u001b[0m uids \u001b[38;5;241m=\u001b[39m user_counts[user_counts \u001b[38;5;241m>\u001b[39m\u001b[38;5;241m=\u001b[39m \u001b[38;5;241m2\u001b[39m]\u001b[38;5;241m.\u001b[39mindex\n\u001b[1;32m      8\u001b[0m filtered_events \u001b[38;5;241m=\u001b[39m events[events[\u001b[38;5;124m'\u001b[39m\u001b[38;5;124muser_id\u001b[39m\u001b[38;5;124m'\u001b[39m]\u001b[38;5;241m.\u001b[39misin(uids)]\n",
      "File \u001b[0;32m~/mle_projects/mle-recsys/.venv_recsys_start/lib/python3.10/site-packages/pandas/core/base.py:1010\u001b[0m, in \u001b[0;36mIndexOpsMixin.value_counts\u001b[0;34m(self, normalize, sort, ascending, bins, dropna)\u001b[0m\n\u001b[1;32m    923\u001b[0m \u001b[38;5;129m@final\u001b[39m\n\u001b[1;32m    924\u001b[0m \u001b[38;5;28;01mdef\u001b[39;00m \u001b[38;5;21mvalue_counts\u001b[39m(\n\u001b[1;32m    925\u001b[0m     \u001b[38;5;28mself\u001b[39m,\n\u001b[0;32m   (...)\u001b[0m\n\u001b[1;32m    930\u001b[0m     dropna: \u001b[38;5;28mbool\u001b[39m \u001b[38;5;241m=\u001b[39m \u001b[38;5;28;01mTrue\u001b[39;00m,\n\u001b[1;32m    931\u001b[0m ) \u001b[38;5;241m-\u001b[39m\u001b[38;5;241m>\u001b[39m Series:\n\u001b[1;32m    932\u001b[0m \u001b[38;5;250m    \u001b[39m\u001b[38;5;124;03m\"\"\"\u001b[39;00m\n\u001b[1;32m    933\u001b[0m \u001b[38;5;124;03m    Return a Series containing counts of unique values.\u001b[39;00m\n\u001b[1;32m    934\u001b[0m \n\u001b[0;32m   (...)\u001b[0m\n\u001b[1;32m   1008\u001b[0m \u001b[38;5;124;03m    Name: count, dtype: int64\u001b[39;00m\n\u001b[1;32m   1009\u001b[0m \u001b[38;5;124;03m    \"\"\"\u001b[39;00m\n\u001b[0;32m-> 1010\u001b[0m     \u001b[38;5;28;01mreturn\u001b[39;00m \u001b[43malgorithms\u001b[49m\u001b[38;5;241;43m.\u001b[39;49m\u001b[43mvalue_counts_internal\u001b[49m\u001b[43m(\u001b[49m\n\u001b[1;32m   1011\u001b[0m \u001b[43m        \u001b[49m\u001b[38;5;28;43mself\u001b[39;49m\u001b[43m,\u001b[49m\n\u001b[1;32m   1012\u001b[0m \u001b[43m        \u001b[49m\u001b[43msort\u001b[49m\u001b[38;5;241;43m=\u001b[39;49m\u001b[43msort\u001b[49m\u001b[43m,\u001b[49m\n\u001b[1;32m   1013\u001b[0m \u001b[43m        \u001b[49m\u001b[43mascending\u001b[49m\u001b[38;5;241;43m=\u001b[39;49m\u001b[43mascending\u001b[49m\u001b[43m,\u001b[49m\n\u001b[1;32m   1014\u001b[0m \u001b[43m        \u001b[49m\u001b[43mnormalize\u001b[49m\u001b[38;5;241;43m=\u001b[39;49m\u001b[43mnormalize\u001b[49m\u001b[43m,\u001b[49m\n\u001b[1;32m   1015\u001b[0m \u001b[43m        \u001b[49m\u001b[43mbins\u001b[49m\u001b[38;5;241;43m=\u001b[39;49m\u001b[43mbins\u001b[49m\u001b[43m,\u001b[49m\n\u001b[1;32m   1016\u001b[0m \u001b[43m        \u001b[49m\u001b[43mdropna\u001b[49m\u001b[38;5;241;43m=\u001b[39;49m\u001b[43mdropna\u001b[49m\u001b[43m,\u001b[49m\n\u001b[1;32m   1017\u001b[0m \u001b[43m    \u001b[49m\u001b[43m)\u001b[49m\n",
      "File \u001b[0;32m~/mle_projects/mle-recsys/.venv_recsys_start/lib/python3.10/site-packages/pandas/core/algorithms.py:927\u001b[0m, in \u001b[0;36mvalue_counts_internal\u001b[0;34m(values, sort, ascending, normalize, bins, dropna)\u001b[0m\n\u001b[1;32m    925\u001b[0m \u001b[38;5;28;01melse\u001b[39;00m:\n\u001b[1;32m    926\u001b[0m     values \u001b[38;5;241m=\u001b[39m _ensure_arraylike(values, func_name\u001b[38;5;241m=\u001b[39m\u001b[38;5;124m\"\u001b[39m\u001b[38;5;124mvalue_counts\u001b[39m\u001b[38;5;124m\"\u001b[39m)\n\u001b[0;32m--> 927\u001b[0m     keys, counts \u001b[38;5;241m=\u001b[39m \u001b[43mvalue_counts_arraylike\u001b[49m\u001b[43m(\u001b[49m\u001b[43mvalues\u001b[49m\u001b[43m,\u001b[49m\u001b[43m \u001b[49m\u001b[43mdropna\u001b[49m\u001b[43m)\u001b[49m\n\u001b[1;32m    928\u001b[0m     \u001b[38;5;28;01mif\u001b[39;00m keys\u001b[38;5;241m.\u001b[39mdtype \u001b[38;5;241m==\u001b[39m np\u001b[38;5;241m.\u001b[39mfloat16:\n\u001b[1;32m    929\u001b[0m         keys \u001b[38;5;241m=\u001b[39m keys\u001b[38;5;241m.\u001b[39mastype(np\u001b[38;5;241m.\u001b[39mfloat32)\n",
      "File \u001b[0;32m~/mle_projects/mle-recsys/.venv_recsys_start/lib/python3.10/site-packages/pandas/core/algorithms.py:968\u001b[0m, in \u001b[0;36mvalue_counts_arraylike\u001b[0;34m(values, dropna, mask)\u001b[0m\n\u001b[1;32m    965\u001b[0m original \u001b[38;5;241m=\u001b[39m values\n\u001b[1;32m    966\u001b[0m values \u001b[38;5;241m=\u001b[39m _ensure_data(values)\n\u001b[0;32m--> 968\u001b[0m keys, counts \u001b[38;5;241m=\u001b[39m \u001b[43mhtable\u001b[49m\u001b[38;5;241;43m.\u001b[39;49m\u001b[43mvalue_count\u001b[49m\u001b[43m(\u001b[49m\u001b[43mvalues\u001b[49m\u001b[43m,\u001b[49m\u001b[43m \u001b[49m\u001b[43mdropna\u001b[49m\u001b[43m,\u001b[49m\u001b[43m \u001b[49m\u001b[43mmask\u001b[49m\u001b[38;5;241;43m=\u001b[39;49m\u001b[43mmask\u001b[49m\u001b[43m)\u001b[49m\n\u001b[1;32m    970\u001b[0m \u001b[38;5;28;01mif\u001b[39;00m needs_i8_conversion(original\u001b[38;5;241m.\u001b[39mdtype):\n\u001b[1;32m    971\u001b[0m     \u001b[38;5;66;03m# datetime, timedelta, or period\u001b[39;00m\n\u001b[1;32m    973\u001b[0m     \u001b[38;5;28;01mif\u001b[39;00m dropna:\n",
      "\u001b[0;31mKeyboardInterrupt\u001b[0m: "
     ]
    }
   ],
   "source": [
    "items = pd.read_parquet(\"goodsread/items.par\")\n",
    "events = pd.read_parquet(\"goodsread/events.par\")\n",
    "\n",
    "events.rename(columns={'book_id':'item_id'}, inplace=True)\n",
    "\n",
    "user_counts = events['user_id'].value_counts()\n",
    "uids = user_counts[user_counts >= 2].index\n",
    "filtered_events = events[events['user_id'].isin(uids)]\n",
    "filtered_events.sort_values(by='user_id', inplace=True)\n",
    "\n",
    "cols_to_rename = {'book_id': 'item_id'}\n",
    "filtered_events.rename(columns=cols_to_rename, inplace=True)\n",
    "items.rename(columns=cols_to_rename, inplace=True)\n",
    "\n",
    "unique_users = list(filtered_events['user_id'].unique())\n",
    "ids_mapping = {user:idx for idx, user in enumerate(unique_users, start=1_000_000)}\n",
    "\n",
    "filtered_events['user_id'] = filtered_events['user_id'].map(ids_mapping)\n",
    "filtered_events.reset_index(drop=True, inplace=True)"
   ]
  },
  {
   "cell_type": "code",
   "execution_count": null,
   "metadata": {},
   "outputs": [],
   "source": [
    "train_test_global_time_split_date = pd.to_datetime('2017-08-01').date()\n",
    "\n",
    "train_test_global_time_split_idx = filtered_events['started_at'] < train_test_global_time_split_date\n",
    "events_train = filtered_events[train_test_global_time_split_idx]\n",
    "events_test = filtered_events[~train_test_global_time_split_idx]"
   ]
  },
  {
   "cell_type": "code",
   "execution_count": null,
   "metadata": {},
   "outputs": [],
   "source": [
    "import scipy\n",
    "import sklearn.preprocessing \n",
    "\n",
    "user_encoder = sklearn.preprocessing.LabelEncoder()\n",
    "user_encoder.fit(filtered_events['user_id'])\n",
    "\n",
    "events_train['user_id_enc'] = user_encoder.transform(events_train['user_id'])\n",
    "events_test['user_id_enc'] = user_encoder.transform(events_test['user_id'])\n",
    "\n",
    "item_encoder = sklearn.preprocessing.LabelEncoder()\n",
    "item_encoder.fit(items['item_id'])\n",
    "items['item_id_enc'] = item_encoder.transform(items['item_id'])\n",
    "events_train['item_id_enc'] = item_encoder.transform(events_train['item_id'])\n",
    "events_test['item_id_enc'] = item_encoder.transform(events_test['item_id'])"
   ]
  },
  {
   "cell_type": "code",
   "execution_count": null,
   "metadata": {},
   "outputs": [],
   "source": [
    "user_item_matrix_train = scipy.sparse.csr_matrix(\n",
    "    (\n",
    "        events_train['rating'],\n",
    "        (events_train['user_id_enc'], events_train['item_id_enc'])\n",
    "    ),\n",
    "    dtype=np.int8\n",
    ")"
   ]
  },
  {
   "cell_type": "code",
   "execution_count": null,
   "metadata": {},
   "outputs": [
    {
     "name": "stderr",
     "output_type": "stream",
     "text": [
      "100%|██████████| 50/50 [03:35<00:00,  4.32s/it]\n"
     ]
    }
   ],
   "source": [
    "from implicit.als import AlternatingLeastSquares\n",
    "\n",
    "als_model = AlternatingLeastSquares(factors=50,\n",
    "                                    iterations=50, \n",
    "                                    regularization=0.05,\n",
    "                                    random_state=0)\n",
    "als_model.fit(user_item_matrix_train)"
   ]
  },
  {
   "cell_type": "code",
   "execution_count": null,
   "metadata": {},
   "outputs": [],
   "source": [
    "train_item_ids_enc = events_train['item_id_enc'].unique()\n",
    "max_similar_items = 10\n",
    "\n",
    "similar_items = als_model.similar_items(train_item_ids_enc, N=max_similar_items+1)\n",
    "sim_item_item_ids_enc = similar_items[0]\n",
    "sim_item_scores = similar_items[1]\n",
    "\n",
    "similar_items = pd.DataFrame({\n",
    "    \"item_id_enc\": train_item_ids_enc,\n",
    "    \"sim_item_id_enc\": sim_item_item_ids_enc.tolist(), \n",
    "    \"score\": sim_item_scores.tolist()})\n",
    "\n",
    "similar_items_exploded = similar_items.explode(['sim_item_id_enc', 'score'],\n",
    "                                               ignore_index=True)\n",
    "\n",
    "# приводим типы данных\n",
    "similar_items_exploded[\"sim_item_id_enc\"] = similar_items_exploded[\"sim_item_id_enc\"].astype('int')\n",
    "similar_items_exploded[\"score\"] = similar_items_exploded[\"score\"].astype(\"float\")\n",
    "\n",
    "similar_items_exploded[\"item_id_1\"] = item_encoder.inverse_transform(similar_items_exploded[\"item_id_enc\"])\n",
    "similar_items_exploded[\"item_id_2\"] = item_encoder.inverse_transform(similar_items_exploded[\"sim_item_id_enc\"])\n",
    "similar_items_exploded = similar_items_exploded.drop(columns=[\"item_id_enc\", \"sim_item_id_enc\"])\n",
    "\n",
    "similar_items_exploded = similar_items_exploded.query(\"item_id_1 != item_id_2\") \n"
   ]
  },
  {
   "cell_type": "code",
   "execution_count": null,
   "metadata": {},
   "outputs": [
    {
     "data": {
      "text/html": [
       "<div>\n",
       "<style scoped>\n",
       "    .dataframe tbody tr th:only-of-type {\n",
       "        vertical-align: middle;\n",
       "    }\n",
       "\n",
       "    .dataframe tbody tr th {\n",
       "        vertical-align: top;\n",
       "    }\n",
       "\n",
       "    .dataframe thead th {\n",
       "        text-align: right;\n",
       "    }\n",
       "</style>\n",
       "<table border=\"1\" class=\"dataframe\">\n",
       "  <thead>\n",
       "    <tr style=\"text-align: right;\">\n",
       "      <th></th>\n",
       "      <th>item_id_enc</th>\n",
       "      <th>sim_item_id_enc</th>\n",
       "      <th>score</th>\n",
       "    </tr>\n",
       "  </thead>\n",
       "  <tbody>\n",
       "    <tr>\n",
       "      <th>0</th>\n",
       "      <td>1303</td>\n",
       "      <td>[1303, 881, 517, 2304, 1297, 6379, 4967, 8398,...</td>\n",
       "      <td>[1.0, 0.986731767654419, 0.9646497368812561, 0...</td>\n",
       "    </tr>\n",
       "    <tr>\n",
       "      <th>1</th>\n",
       "      <td>493</td>\n",
       "      <td>[493, 36575, 36896, 38973, 17560, 32880, 17937...</td>\n",
       "      <td>[1.0000001192092896, 0.8846721053123474, 0.872...</td>\n",
       "    </tr>\n",
       "    <tr>\n",
       "      <th>2</th>\n",
       "      <td>3</td>\n",
       "      <td>[3, 1942, 4, 1, 0, 2, 8250, 26800, 23781, 1844...</td>\n",
       "      <td>[0.9999998211860657, 0.9975799322128296, 0.996...</td>\n",
       "    </tr>\n",
       "    <tr>\n",
       "      <th>3</th>\n",
       "      <td>1</td>\n",
       "      <td>[1, 0, 4, 8250, 3, 1942, 2, 26800, 23781, 1844...</td>\n",
       "      <td>[1.0, 0.9990151524543762, 0.9974552989006042, ...</td>\n",
       "    </tr>\n",
       "    <tr>\n",
       "      <th>4</th>\n",
       "      <td>1808</td>\n",
       "      <td>[1808, 2083, 298, 1464, 20264, 2078, 2080, 330...</td>\n",
       "      <td>[0.9999999403953552, 0.9485806822776794, 0.939...</td>\n",
       "    </tr>\n",
       "    <tr>\n",
       "      <th>...</th>\n",
       "      <td>...</td>\n",
       "      <td>...</td>\n",
       "      <td>...</td>\n",
       "    </tr>\n",
       "    <tr>\n",
       "      <th>41469</th>\n",
       "      <td>40191</td>\n",
       "      <td>[40191, 39510, 38222, 40435, 42399, 36779, 417...</td>\n",
       "      <td>[1.0000001192092896, 0.8624750375747681, 0.648...</td>\n",
       "    </tr>\n",
       "    <tr>\n",
       "      <th>41470</th>\n",
       "      <td>41396</td>\n",
       "      <td>[41396, 19916, 31198, 27269, 25546, 2253, 1382...</td>\n",
       "      <td>[1.0, 0.7108330726623535, 0.6838828921318054, ...</td>\n",
       "    </tr>\n",
       "    <tr>\n",
       "      <th>41471</th>\n",
       "      <td>29936</td>\n",
       "      <td>[29936, 30900, 27947, 29853, 30339, 26630, 251...</td>\n",
       "      <td>[0.9999999403953552, 0.6215892434120178, 0.618...</td>\n",
       "    </tr>\n",
       "    <tr>\n",
       "      <th>41472</th>\n",
       "      <td>5160</td>\n",
       "      <td>[5160, 38103, 37237, 21429, 18291, 11609, 4041...</td>\n",
       "      <td>[1.0, 0.6781921982765198, 0.6698132753372192, ...</td>\n",
       "    </tr>\n",
       "    <tr>\n",
       "      <th>41473</th>\n",
       "      <td>15800</td>\n",
       "      <td>[15800, 29121, 18510, 14022, 16516, 9718, 1204...</td>\n",
       "      <td>[1.0, 0.9546636343002319, 0.9525189399719238, ...</td>\n",
       "    </tr>\n",
       "  </tbody>\n",
       "</table>\n",
       "<p>41474 rows × 3 columns</p>\n",
       "</div>"
      ],
      "text/plain": [
       "       item_id_enc                                    sim_item_id_enc  \\\n",
       "0             1303  [1303, 881, 517, 2304, 1297, 6379, 4967, 8398,...   \n",
       "1              493  [493, 36575, 36896, 38973, 17560, 32880, 17937...   \n",
       "2                3  [3, 1942, 4, 1, 0, 2, 8250, 26800, 23781, 1844...   \n",
       "3                1  [1, 0, 4, 8250, 3, 1942, 2, 26800, 23781, 1844...   \n",
       "4             1808  [1808, 2083, 298, 1464, 20264, 2078, 2080, 330...   \n",
       "...            ...                                                ...   \n",
       "41469        40191  [40191, 39510, 38222, 40435, 42399, 36779, 417...   \n",
       "41470        41396  [41396, 19916, 31198, 27269, 25546, 2253, 1382...   \n",
       "41471        29936  [29936, 30900, 27947, 29853, 30339, 26630, 251...   \n",
       "41472         5160  [5160, 38103, 37237, 21429, 18291, 11609, 4041...   \n",
       "41473        15800  [15800, 29121, 18510, 14022, 16516, 9718, 1204...   \n",
       "\n",
       "                                                   score  \n",
       "0      [1.0, 0.986731767654419, 0.9646497368812561, 0...  \n",
       "1      [1.0000001192092896, 0.8846721053123474, 0.872...  \n",
       "2      [0.9999998211860657, 0.9975799322128296, 0.996...  \n",
       "3      [1.0, 0.9990151524543762, 0.9974552989006042, ...  \n",
       "4      [0.9999999403953552, 0.9485806822776794, 0.939...  \n",
       "...                                                  ...  \n",
       "41469  [1.0000001192092896, 0.8624750375747681, 0.648...  \n",
       "41470  [1.0, 0.7108330726623535, 0.6838828921318054, ...  \n",
       "41471  [0.9999999403953552, 0.6215892434120178, 0.618...  \n",
       "41472  [1.0, 0.6781921982765198, 0.6698132753372192, ...  \n",
       "41473  [1.0, 0.9546636343002319, 0.9525189399719238, ...  \n",
       "\n",
       "[41474 rows x 3 columns]"
      ]
     },
     "execution_count": 11,
     "metadata": {},
     "output_type": "execute_result"
    }
   ],
   "source": [
    "similar_items"
   ]
  },
  {
   "cell_type": "code",
   "execution_count": 4,
   "metadata": {},
   "outputs": [],
   "source": [
    "# similar_items.to_parquet(\"similar_items.parquet\")\n",
    "similar_items = pd.read_parquet('similar_items.parquet')"
   ]
  },
  {
   "cell_type": "code",
   "execution_count": 5,
   "metadata": {},
   "outputs": [],
   "source": [
    "# similar_items_exploded.to_parquet(\"similar_items_exploded.parquet\")\n",
    "similar_items_exploded = pd.read_parquet('similar_items_exploded.parquet')"
   ]
  },
  {
   "cell_type": "code",
   "execution_count": 6,
   "metadata": {},
   "outputs": [],
   "source": [
    "def print_sim_items(item_id, similar_items):\n",
    "\n",
    "    item_columns_to_use = [\"item_id\", \"author\", \"title\", \"genre_and_votes\", \"average_rating\", \"ratings_count\"]\n",
    "    \n",
    "    item_id_1 = items.query(\"item_id == @item_id\")[item_columns_to_use]\n",
    "    display(item_id_1)\n",
    "    \n",
    "    si = similar_items.query(\"item_id_1 == @item_id\")\n",
    "    si = si.merge(items[item_columns_to_use].set_index(\"item_id\"), left_on=\"item_id_2\", right_index=True)\n",
    "    display(si)"
   ]
  },
  {
   "cell_type": "code",
   "execution_count": 7,
   "metadata": {},
   "outputs": [
    {
     "data": {
      "text/html": [
       "<div>\n",
       "<style scoped>\n",
       "    .dataframe tbody tr th:only-of-type {\n",
       "        vertical-align: middle;\n",
       "    }\n",
       "\n",
       "    .dataframe tbody tr th {\n",
       "        vertical-align: top;\n",
       "    }\n",
       "\n",
       "    .dataframe thead th {\n",
       "        text-align: right;\n",
       "    }\n",
       "</style>\n",
       "<table border=\"1\" class=\"dataframe\">\n",
       "  <thead>\n",
       "    <tr style=\"text-align: right;\">\n",
       "      <th></th>\n",
       "      <th>item_id</th>\n",
       "      <th>author</th>\n",
       "      <th>title</th>\n",
       "      <th>genre_and_votes</th>\n",
       "      <th>average_rating</th>\n",
       "      <th>ratings_count</th>\n",
       "    </tr>\n",
       "  </thead>\n",
       "  <tbody>\n",
       "    <tr>\n",
       "      <th>19338</th>\n",
       "      <td>17245</td>\n",
       "      <td>Bram Stoker, Nina Auerbach, David J. Skal</td>\n",
       "      <td>Dracula</td>\n",
       "      <td>{'Classics': 19603, 'Horror': 10601, 'Fiction'...</td>\n",
       "      <td>3.98</td>\n",
       "      <td>636895</td>\n",
       "    </tr>\n",
       "  </tbody>\n",
       "</table>\n",
       "</div>"
      ],
      "text/plain": [
       "       item_id                                     author    title  \\\n",
       "19338    17245  Bram Stoker, Nina Auerbach, David J. Skal  Dracula   \n",
       "\n",
       "                                         genre_and_votes  average_rating  \\\n",
       "19338  {'Classics': 19603, 'Horror': 10601, 'Fiction'...            3.98   \n",
       "\n",
       "       ratings_count  \n",
       "19338         636895  "
      ]
     },
     "metadata": {},
     "output_type": "display_data"
    },
    {
     "data": {
      "text/html": [
       "<div>\n",
       "<style scoped>\n",
       "    .dataframe tbody tr th:only-of-type {\n",
       "        vertical-align: middle;\n",
       "    }\n",
       "\n",
       "    .dataframe tbody tr th {\n",
       "        vertical-align: top;\n",
       "    }\n",
       "\n",
       "    .dataframe thead th {\n",
       "        text-align: right;\n",
       "    }\n",
       "</style>\n",
       "<table border=\"1\" class=\"dataframe\">\n",
       "  <thead>\n",
       "    <tr style=\"text-align: right;\">\n",
       "      <th></th>\n",
       "      <th>score</th>\n",
       "      <th>item_id_1</th>\n",
       "      <th>item_id_2</th>\n",
       "      <th>author</th>\n",
       "      <th>title</th>\n",
       "      <th>genre_and_votes</th>\n",
       "      <th>average_rating</th>\n",
       "      <th>ratings_count</th>\n",
       "    </tr>\n",
       "  </thead>\n",
       "  <tbody>\n",
       "    <tr>\n",
       "      <th>24278</th>\n",
       "      <td>0.928823</td>\n",
       "      <td>17245</td>\n",
       "      <td>480204</td>\n",
       "      <td>Gaston Leroux, Alexander Teixeira de Mattos</td>\n",
       "      <td>The Phantom of the Opera</td>\n",
       "      <td>{'Classics': 7010, 'Fiction': 2103, 'Horror': ...</td>\n",
       "      <td>3.97</td>\n",
       "      <td>144859</td>\n",
       "    </tr>\n",
       "    <tr>\n",
       "      <th>24279</th>\n",
       "      <td>0.900337</td>\n",
       "      <td>17245</td>\n",
       "      <td>51496</td>\n",
       "      <td>Robert Louis Stevenson, Vladimir Nabokov, Merv...</td>\n",
       "      <td>The Strange Case of Dr. Jekyll and Mr. Hyde</td>\n",
       "      <td>{'Classics': 12342, 'Fiction': 4037, 'Horror':...</td>\n",
       "      <td>3.79</td>\n",
       "      <td>229898</td>\n",
       "    </tr>\n",
       "    <tr>\n",
       "      <th>24280</th>\n",
       "      <td>0.898938</td>\n",
       "      <td>17245</td>\n",
       "      <td>93261</td>\n",
       "      <td>Washington Irving</td>\n",
       "      <td>The Legend of Sleepy Hollow</td>\n",
       "      <td>{'Classics': 2594, 'Horror': 1182, 'Fiction': ...</td>\n",
       "      <td>3.74</td>\n",
       "      <td>26776</td>\n",
       "    </tr>\n",
       "    <tr>\n",
       "      <th>24281</th>\n",
       "      <td>0.897706</td>\n",
       "      <td>17245</td>\n",
       "      <td>295</td>\n",
       "      <td>Robert Louis Stevenson</td>\n",
       "      <td>Treasure Island</td>\n",
       "      <td>{'Classics': 11249, 'Fiction': 4405, 'Adventur...</td>\n",
       "      <td>3.82</td>\n",
       "      <td>274424</td>\n",
       "    </tr>\n",
       "    <tr>\n",
       "      <th>24282</th>\n",
       "      <td>0.896470</td>\n",
       "      <td>17245</td>\n",
       "      <td>2623</td>\n",
       "      <td>Charles Dickens, Marisa Sestino</td>\n",
       "      <td>Great Expectations</td>\n",
       "      <td>{'Classics': 19645, 'Fiction': 6662, 'Literatu...</td>\n",
       "      <td>3.75</td>\n",
       "      <td>468462</td>\n",
       "    </tr>\n",
       "    <tr>\n",
       "      <th>24283</th>\n",
       "      <td>0.895993</td>\n",
       "      <td>17245</td>\n",
       "      <td>18254</td>\n",
       "      <td>Charles Dickens, Philip Horne, Gerald Dickens</td>\n",
       "      <td>Oliver Twist</td>\n",
       "      <td>{'Classics': 11450, 'Fiction': 3656, 'Historic...</td>\n",
       "      <td>3.85</td>\n",
       "      <td>235560</td>\n",
       "    </tr>\n",
       "    <tr>\n",
       "      <th>24284</th>\n",
       "      <td>0.886899</td>\n",
       "      <td>17245</td>\n",
       "      <td>7190</td>\n",
       "      <td>Alexandre Dumas</td>\n",
       "      <td>The Three Musketeers (The D'Artagnan Romances,...</td>\n",
       "      <td>{'Classics': 9823, 'Fiction': 3256, 'Historica...</td>\n",
       "      <td>4.06</td>\n",
       "      <td>198892</td>\n",
       "    </tr>\n",
       "    <tr>\n",
       "      <th>24285</th>\n",
       "      <td>0.881911</td>\n",
       "      <td>17245</td>\n",
       "      <td>24213</td>\n",
       "      <td>Lewis Carroll, John Tenniel, Martin Gardner</td>\n",
       "      <td>Alice's Adventures in Wonderland &amp; Through the...</td>\n",
       "      <td>{'Classics': 11568, 'Fantasy': 6184, 'Fiction'...</td>\n",
       "      <td>4.06</td>\n",
       "      <td>344482</td>\n",
       "    </tr>\n",
       "    <tr>\n",
       "      <th>24286</th>\n",
       "      <td>0.878392</td>\n",
       "      <td>17245</td>\n",
       "      <td>2932</td>\n",
       "      <td>Daniel Defoe, Virginia Woolf</td>\n",
       "      <td>Robinson Crusoe</td>\n",
       "      <td>{'Classics': 7725, 'Fiction': 3305, 'Adventure...</td>\n",
       "      <td>3.66</td>\n",
       "      <td>181415</td>\n",
       "    </tr>\n",
       "    <tr>\n",
       "      <th>24287</th>\n",
       "      <td>0.870232</td>\n",
       "      <td>17245</td>\n",
       "      <td>1953</td>\n",
       "      <td>Charles Dickens, Richard Maxwell</td>\n",
       "      <td>A Tale of Two Cities</td>\n",
       "      <td>{'Classics': 20021, 'Fiction': 6969, 'Historic...</td>\n",
       "      <td>3.82</td>\n",
       "      <td>646983</td>\n",
       "    </tr>\n",
       "  </tbody>\n",
       "</table>\n",
       "</div>"
      ],
      "text/plain": [
       "          score  item_id_1  item_id_2  \\\n",
       "24278  0.928823      17245     480204   \n",
       "24279  0.900337      17245      51496   \n",
       "24280  0.898938      17245      93261   \n",
       "24281  0.897706      17245        295   \n",
       "24282  0.896470      17245       2623   \n",
       "24283  0.895993      17245      18254   \n",
       "24284  0.886899      17245       7190   \n",
       "24285  0.881911      17245      24213   \n",
       "24286  0.878392      17245       2932   \n",
       "24287  0.870232      17245       1953   \n",
       "\n",
       "                                                  author  \\\n",
       "24278        Gaston Leroux, Alexander Teixeira de Mattos   \n",
       "24279  Robert Louis Stevenson, Vladimir Nabokov, Merv...   \n",
       "24280                                  Washington Irving   \n",
       "24281                             Robert Louis Stevenson   \n",
       "24282                    Charles Dickens, Marisa Sestino   \n",
       "24283      Charles Dickens, Philip Horne, Gerald Dickens   \n",
       "24284                                    Alexandre Dumas   \n",
       "24285        Lewis Carroll, John Tenniel, Martin Gardner   \n",
       "24286                       Daniel Defoe, Virginia Woolf   \n",
       "24287                   Charles Dickens, Richard Maxwell   \n",
       "\n",
       "                                                   title  \\\n",
       "24278                           The Phantom of the Opera   \n",
       "24279        The Strange Case of Dr. Jekyll and Mr. Hyde   \n",
       "24280                        The Legend of Sleepy Hollow   \n",
       "24281                                    Treasure Island   \n",
       "24282                                 Great Expectations   \n",
       "24283                                       Oliver Twist   \n",
       "24284  The Three Musketeers (The D'Artagnan Romances,...   \n",
       "24285  Alice's Adventures in Wonderland & Through the...   \n",
       "24286                                    Robinson Crusoe   \n",
       "24287                               A Tale of Two Cities   \n",
       "\n",
       "                                         genre_and_votes  average_rating  \\\n",
       "24278  {'Classics': 7010, 'Fiction': 2103, 'Horror': ...            3.97   \n",
       "24279  {'Classics': 12342, 'Fiction': 4037, 'Horror':...            3.79   \n",
       "24280  {'Classics': 2594, 'Horror': 1182, 'Fiction': ...            3.74   \n",
       "24281  {'Classics': 11249, 'Fiction': 4405, 'Adventur...            3.82   \n",
       "24282  {'Classics': 19645, 'Fiction': 6662, 'Literatu...            3.75   \n",
       "24283  {'Classics': 11450, 'Fiction': 3656, 'Historic...            3.85   \n",
       "24284  {'Classics': 9823, 'Fiction': 3256, 'Historica...            4.06   \n",
       "24285  {'Classics': 11568, 'Fantasy': 6184, 'Fiction'...            4.06   \n",
       "24286  {'Classics': 7725, 'Fiction': 3305, 'Adventure...            3.66   \n",
       "24287  {'Classics': 20021, 'Fiction': 6969, 'Historic...            3.82   \n",
       "\n",
       "       ratings_count  \n",
       "24278         144859  \n",
       "24279         229898  \n",
       "24280          26776  \n",
       "24281         274424  \n",
       "24282         468462  \n",
       "24283         235560  \n",
       "24284         198892  \n",
       "24285         344482  \n",
       "24286         181415  \n",
       "24287         646983  "
      ]
     },
     "metadata": {},
     "output_type": "display_data"
    }
   ],
   "source": [
    "print_sim_items(17245, similar_items_exploded)"
   ]
  },
  {
   "cell_type": "code",
   "execution_count": 8,
   "metadata": {},
   "outputs": [
    {
     "data": {
      "text/plain": [
       "{'item_id_2': [480204,\n",
       "  51496,\n",
       "  93261,\n",
       "  295,\n",
       "  2623,\n",
       "  18254,\n",
       "  7190,\n",
       "  24213,\n",
       "  2932,\n",
       "  1953],\n",
       " 'score': [0.9288230538368225,\n",
       "  0.9003370404243469,\n",
       "  0.8989384174346924,\n",
       "  0.8977058529853821,\n",
       "  0.8964701294898987,\n",
       "  0.8959931135177612,\n",
       "  0.8868994116783142,\n",
       "  0.8819113373756409,\n",
       "  0.8783923387527466,\n",
       "  0.870232105255127]}"
      ]
     },
     "execution_count": 8,
     "metadata": {},
     "output_type": "execute_result"
    }
   ],
   "source": [
    "i2i = similar_items_exploded.loc[similar_items_exploded['item_id_1'] == 17245]\n",
    "i2i = i2i[['item_id_2', 'score']].to_dict(orient=\"list\")\n",
    "i2i"
   ]
  },
  {
   "cell_type": "code",
   "execution_count": 16,
   "metadata": {},
   "outputs": [
    {
     "data": {
      "text/plain": [
       "[480204, 51496, 93261, 295, 2623, 18254, 7190, 24213, 2932, 1953]"
      ]
     },
     "execution_count": 16,
     "metadata": {},
     "output_type": "execute_result"
    }
   ],
   "source": [
    "i2i['item_id_2']"
   ]
  },
  {
   "cell_type": "code",
   "execution_count": 20,
   "metadata": {},
   "outputs": [],
   "source": [
    "recs_blended = []\n",
    "\n",
    "min_length = 3\n",
    "# чередуем элементы из списков, пока позволяет минимальная длина\n",
    "for i in range(min_length):\n",
    "    recs_blended.append(i2i['item_id_2'][i])\n",
    "\n",
    "# добавляем оставшиеся элементы в конец\n",
    "# if len(recs_offline) < len(recs_online):\n",
    "    # rec_online[min_lengt:]\n",
    "\n",
    "recs_blended.extend(i2i['item_id_2'][3:])"
   ]
  },
  {
   "cell_type": "code",
   "execution_count": 21,
   "metadata": {},
   "outputs": [
    {
     "data": {
      "text/plain": [
       "[480204, 51496, 93261, 295, 2623, 18254, 7190, 24213, 2932, 1953]"
      ]
     },
     "execution_count": 21,
     "metadata": {},
     "output_type": "execute_result"
    }
   ],
   "source": [
    "recs_blended"
   ]
  },
  {
   "cell_type": "code",
   "execution_count": 14,
   "metadata": {},
   "outputs": [],
   "source": [
    "recs_blended.append(i2i['item_id_2'][3:])"
   ]
  },
  {
   "cell_type": "code",
   "execution_count": 15,
   "metadata": {},
   "outputs": [
    {
     "data": {
      "text/plain": [
       "[480204, 51496, 93261, [295, 2623, 18254, 7190, 24213, 2932, 1953]]"
      ]
     },
     "execution_count": 15,
     "metadata": {},
     "output_type": "execute_result"
    }
   ],
   "source": [
    "recs_blended"
   ]
  }
 ],
 "metadata": {
  "kernelspec": {
   "display_name": ".venv_recsys_start",
   "language": "python",
   "name": "python3"
  },
  "language_info": {
   "codemirror_mode": {
    "name": "ipython",
    "version": 3
   },
   "file_extension": ".py",
   "mimetype": "text/x-python",
   "name": "python",
   "nbconvert_exporter": "python",
   "pygments_lexer": "ipython3",
   "version": "3.10.12"
  }
 },
 "nbformat": 4,
 "nbformat_minor": 2
}
